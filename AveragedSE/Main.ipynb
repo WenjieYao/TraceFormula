{
 "cells": [
  {
   "cell_type": "code",
   "execution_count": 1,
   "metadata": {},
   "outputs": [],
   "source": [
    "push!(LOAD_PATH, \"/Users/jayyao/Documents/Research/TraceFormula/Module\")\n",
    "using GridapEM\n",
    "using Gridap\n",
    "using DelimitedFiles\n",
    "using KrylovKit\n",
    "using LinearAlgebra\n",
    "using GridapMakie\n",
    "using GLMakie"
   ]
  },
  {
   "cell_type": "code",
   "execution_count": 2,
   "metadata": {
    "collapsed": true
   },
   "outputs": [
    {
     "name": "stdout",
     "output_type": "stream",
     "text": [
      "Info    : Clearing all models and views...\n",
      "Info    : Done clearing all models and views\n",
      "Info    : Meshing 1D...\n",
      "Info    : Meshing curve 1 (Line)\n",
      "Info    : Meshing curve 2 (Line)\n",
      "Info    : Meshing curve 3 (Line)\n",
      "Info    : Meshing curve 4 (Line)\n",
      "Info    : Meshing curve 5 (Line)\n",
      "Info    : Meshing curve 6 (Line)\n",
      "Info    : Meshing curve 7 (Line)\n",
      "Info    : Meshing curve 8 (Line)\n",
      "Info    : Meshing curve 9 (Line)\n",
      "Info    : Meshing curve 10 (Line)\n",
      "Info    : Meshing curve 11 (Line)\n",
      "Info    : Meshing curve 12 (Line)\n",
      "Info    : Meshing curve 13 (Line)\n",
      "Info    : Meshing curve 14 (Line)\n",
      "Info    : Meshing curve 15 (Line)\n",
      "Info    : Meshing curve 16 (Line)\n",
      "Info    : Meshing curve 17 (Line)\n",
      "Info    : Meshing curve 18 (Line)\n",
      "Info    : Meshing curve 19 (Line)\n",
      "Info    : Meshing curve 20 (Line)\n",
      "Info    : Meshing curve 21 (Line)\n",
      "Info    : Meshing curve 22 (Line)\n",
      "Info    : Meshing curve 23 (Line)\n",
      "Info    : Meshing curve 24 (Line)\n",
      "Info    : Meshing curve 25 (Circle)\n",
      "Info    : Meshing curve 26 (Circle)\n",
      "Info    : Meshing curve 27 (Circle)\n",
      "Info    : Meshing curve 28 (Circle)\n",
      "Info    : Done meshing 1D (0.007677 s)\n",
      "Info    : Meshing 2D...\n",
      "Info    : Meshing surface 1 (Plane, Frontal)\n",
      "Info    : Meshing surface 2 (Plane, Frontal)\n",
      "Info    : Meshing surface 3 (Plane, Frontal)\n",
      "Info    : Meshing surface 4 (Plane, Frontal)\n",
      "Info    : Meshing surface 5 (Plane, Frontal)\n",
      "Info    : Meshing surface 6 (Plane, Frontal)\n",
      "Info    : Meshing surface 7 (Plane, Frontal)\n",
      "Info    : Meshing surface 8 (Plane, Frontal)\n",
      "Info    : Meshing surface 9 (Plane, Frontal)\n",
      "Info    : Meshing surface 10 (Plane, Frontal)\n",
      "Info    : Done meshing 2D (0.985769 s)\n",
      "Info    : 25470 vertices 51972 elements\n",
      "Info    : Writing 'geometry.msh'...\n",
      "Info    : Done writing 'geometry.msh'\n",
      "Info    : Reading 'geometry.msh'...\n",
      "Info    : 60 entities\n",
      "Info    : 25468 nodes\n",
      "Info    : 51452 elements\n",
      "Info    : Done reading 'geometry.msh'\n"
     ]
    },
    {
     "data": {
      "text/plain": [
       "ControllingParameters(true, true, [0.02, 0.02], 80.0, 0.5, 0.005, 15, 30, 5, 1.0, true, 0.5, 0.0, 0.75, 0.25)"
      ]
     },
     "execution_count": 2,
     "metadata": {},
     "output_type": "execute_result"
    }
   ],
   "source": [
    "include(\"/Users/jayyao/Documents/Research/TraceFormula/Module/DefaultParameters.jl\")\n",
    "\n",
    "# Change default geometry parameters\n",
    "rd = 0.6 #/ sqrt(2)\n",
    "rt = rd + 0.2\n",
    "resol = 40.0      # Number of points per wavelength\n",
    "l1 = λ/resol      # Normal region\n",
    "l2 = l1/2.0       # Design region\n",
    "l3 = 2*l1         # PML\n",
    "\n",
    "# Create mesh file\n",
    "geo_param = CirRecGeometry(L, H, rd, rt, dpml, l1, l2, l3)\n",
    "#geo_param = PeriodicGeometry(L, h1, h2, h3, ht, hs, dpml, l1, l2, l3)\n",
    "meshfile_name = \"geometry.msh\"\n",
    "MeshGenerator(geo_param, meshfile_name)\n",
    "\n",
    "# Apply gridap finite element analysis to mesh file\n",
    "gridap = GridapFE(meshfile_name, 1, 2, [\"DirichletEdges\", \"DirichletNodes\"], [\"DesignNodes\", \"DesignEdges\"], [\"Target\"], [], flag_f)\n",
    "#run(`gmsh geometry.msh`)\n",
    "\n",
    "# Change default physics parameters\n",
    "kb = VectorValue(2*π*0.,0)\n",
    "LHp=[L / 2, H / 2]  # Start of PML for x,y > 0\n",
    "LHn=[L / 2, H / 2]  # Start of PML for x,y < 0\n",
    "\n",
    "phys = PhysicalParameters(k, kb, ω, ϵ1, ϵ2, ϵ3, ϵd, μ, R, σs, dpml, LHp, LHn, wg_center, wg_size)\n",
    "\n",
    "# Change default control parameters\n",
    "Bρ = true\n",
    "ρv = 0.5\n",
    "β = 80.0\n",
    "α = 1.0 / (2 * 100)\n",
    "K = 5\n",
    "control = ControllingParameters(flag_f, flag_t, r, β, η, α, nparts, nkx, K, Amp, Bρ, ρv, c, ηe, ηd)\n"
   ]
  },
  {
   "cell_type": "code",
   "execution_count": null,
   "metadata": {},
   "outputs": [],
   "source": [
    "Nri = 101\n",
    "α = 1.0 / (2 * 100)\n",
    "control = ControllingParameters(flag_f, flag_t, r, β, η, α, nparts, nkx, K, Amp, Bρ, ρv, c, ηe, ηd)\n",
    "Powers = zeros(Nri)\n",
    "Rs = zeros(Nri)\n",
    "Ncv = zeros(Nri)\n",
    "Ncv2 = zeros(Nri)\n",
    "for ri = 1 : Nri\n",
    "    rd = (ri - 1) * 0.9 / (Nri - 1) + 0.1\n",
    "    Rs[ri] = rd\n",
    "    rt = rd + 0.2\n",
    "    geo_param = CirRecGeometry(L, H, rd, rt, dpml, l1, l2, l3)\n",
    "    meshfile_name = \"geometry.msh\"\n",
    "    MeshGenerator(geo_param, meshfile_name)\n",
    "    gridap = GridapFE(meshfile_name, 1, 2, [\"DirichletEdges\", \"DirichletNodes\"], [\"DesignNodes\", \"DesignEdges\"], [\"Target\"], [], flag_f)\n",
    "    \n",
    "    N = num_free_dofs(gridap.FE_U)\n",
    "    ρ0 = ones(gridap.np)\n",
    "    ρf_vec = ρf_ρ0(ρ0; control, gridap)\n",
    "    ρfh = FEFunction(gridap.FE_Pf, ρf_vec)\n",
    "    ρth = (ρf -> Threshold(ρf; control)) ∘ ρfh\n",
    "        \n",
    "    A_mat = MatrixA(ρth; phys, control, gridap)\n",
    "    B_mat = MatrixB(ρth; control, gridap)\n",
    "    #@show sum(∫(ρth)gridap.dΩ_d) / sum(∫(1)gridap.dΩ_d)\n",
    "\n",
    "    O_mat = MatrixOc(phys.k, phys.ϵ1; gridap)\n",
    "    \n",
    "    Neig = Int(ceil(ri / Nri * 30))\n",
    "    G_ii, W_raw, info = eigsolve(x -> MatrixG(x; A_mat, B_mat, O_mat), rand(ComplexF64, N), Neig, :LM; krylovdim = 50)\n",
    "    Ncv[ri] = num_contributing_values(G_ii, 0.99)\n",
    "    Ncv2[ri] = num_contributing_values(G_ii, 0.9)\n",
    "    @show Powers[ri] = sum(abs.(G_ii))\n",
    "end"
   ]
  },
  {
   "cell_type": "code",
   "execution_count": null,
   "metadata": {},
   "outputs": [],
   "source": [
    "scene, layout = layoutscene(resolution=(1200/2, 1000/2))\n",
    "ax = layout[1,1]=Axis(scene)\n",
    "ms = 10\n",
    "lin1 = lines!(ax, Rs, Powers)\n",
    "# lin2 = lines!(ax,rs,FitPowers.(rs))\n",
    "# lin3 = scatter!(ax,rs,power_rand,markersize=ms)\n",
    "ax.xlabel=\"Design radius (λ)\"\n",
    "ax.ylabel=\"Power\"\n",
    "#ax.title=\"Optimized powers\"\n",
    "ax.xlabelsize=20\n",
    "ax.ylabelsize=20\n",
    "\n",
    "#Legend(layout[1,1],[lin1, lin2],[\"Initial\", \"Optimized\"])\n",
    "#axislegend(ax, [lin1,lin2,lin3],[\"Optimized\",\"Quadratic Fitting\",\"Uniform\"], position = :lt,\n",
    "#    orientation = :vertical)\n",
    "scene"
   ]
  },
  {
   "cell_type": "code",
   "execution_count": null,
   "metadata": {},
   "outputs": [],
   "source": [
    "ρ_circ(x, r) = (x[1]^2 + x[2]^2) < r^2 ? 1 : 0\n",
    "r_init = (0.5 - 0.5 / sqrt(2)) * 0.0 + 0.5 / sqrt(2) - 0.015\n",
    "lc_temp(v) = ∫(v * x->ρ_circ(x, r_init))gridap.dΩ\n",
    "ρc_vec = assemble_vector(lc_temp, gridap.FE_P)\n",
    "ρ_init = ρ_extract(ρc_vec; gridap)\n",
    "#ρ_init[ρ_init .< 0.5] .= 0\n",
    "ρ_init[ρ_init .> 0] .= 1#(0.5 / r_init)^2 /2\n",
    "sum(ρ_init) / gridap.np, maximum(ρ_init)"
   ]
  },
  {
   "cell_type": "code",
   "execution_count": null,
   "metadata": {},
   "outputs": [],
   "source": [
    "ρ_init = Interpolated_Initial_Guess(gridap)\n",
    "ρf_vec = ρf_ρ0(ρ_init; control, gridap)\n",
    "ρfh = FEFunction(gridap.FE_Pf, ρf_vec)\n",
    "ρth = (ρf -> Threshold(ρf; control)) ∘ ρfh\n",
    "fig, ax, plt = plot(gridap.Ω, ρth, colormap = :binary)\n",
    "Colorbar(fig[1,2], plt)\n",
    "ax.aspect = AxisAspect(L/(H))\n",
    "ax.title = \"ε\"\n",
    "limits!(ax, -L/2, L/2, -phys.LHn[2], phys.LHp[2])\n",
    "fig"
   ]
  },
  {
   "cell_type": "code",
   "execution_count": null,
   "metadata": {},
   "outputs": [
    {
     "name": "stdout",
     "output_type": "stream",
     "text": [
      "abs(sum(G_ii)) = 1.8466499761362165\n",
      "numevals = opt.numevals = 200\n"
     ]
    }
   ],
   "source": [
    "ρ_init = ones(gridap.np) * 0.4\n",
    "#ρW_temp = readdlm(\"ρW_opt_value.txt\", Float64)\n",
    "#ρW_temp = ρW_temp[:]\n",
    "#ρ_init = ρW_temp[1 : gridap.np]\n",
    "#ρ_init[ρ_init .< 0.5] .= 0\n",
    "#ρ_init[ρ_init .>= 0.5] .= 1.0\n",
    "#r = [0.02 * λ, 0.02 * λ]  # Filter radius\n",
    "Q_list = [20, 50, 100, 100, 100, 100, 100]\n",
    "#Q_list = [1000, 1000, 1000, 1000, 1000]\n",
    "#Q_list = [100, 100, 100, 100, 100]\n",
    "#β_list = [80.0, 80.0, 80.0, 80.0, 80.0, 80.0, 80.0]\n",
    "β_list = [5.0, 10.0, 20.0, 30.0, 40.0, 60.0, 80.0]\n",
    "\n",
    "g_opt = 0\n",
    "for bi = 1 : 7\n",
    "    β = β_list[bi]\n",
    "    α = 1.0 / (2 * Q_list[bi])\n",
    "    K = 20\n",
    "    phys = PhysicalParameters(k, kb, ω, ϵ1, ϵ2, ϵ3, ϵd, μ, R, σs, dpml, LHp, LHn, wg_center, wg_size)\n",
    "    control = ControllingParameters(flag_f, flag_t, r, β, η, α, nparts, nkx, K, Amp, Bρ, ρv, c, ηe, ηd)\n",
    "\n",
    "    if bi == 1\n",
    "        g_opt, ρW_opt = gρW_optimize(ρ_init, 1e-12, 200, :LD_MMA; phys,control, gridap)\n",
    "    else\n",
    "        g_opt, ρW_opt = gρW_optimize([], 1e-12, 200, :LD_MMA; phys, control, gridap)\n",
    "    end\n",
    "    if isfile(\"ρW_opt.value.txt\")\n",
    "        run(`rm ρW_opt_value.txt`)\n",
    "    end\n",
    "    open(\"ρW_opt_value.txt\", \"w\") do iop\n",
    "        for i = 1 : length(ρW_opt)\n",
    "            ρW_temp = ρW_opt[i]\n",
    "            write(iop, \"$ρW_temp \\n\")\n",
    "        end\n",
    "    end\n",
    "    open(\"g_opt_value.txt\", \"a\") do io\n",
    "        write(io, \"$g_opt \\n\")\n",
    "    end\n",
    "end"
   ]
  },
  {
   "cell_type": "code",
   "execution_count": null,
   "metadata": {},
   "outputs": [],
   "source": [
    "# Output and view\n",
    "ImportFromFile = true\n",
    "N = num_free_dofs(gridap.FE_U)\n",
    "if ImportFromFile\n",
    "    ρW_max = readdlm(\"ρW_opt_value.txt\", Float64)\n",
    "    ρW_max = ρW_max[:]\n",
    "    ρ0 = ρW_max[1 : gridap.np]\n",
    "    W_mat = reinterpret(ComplexF64, reshape(ρW_max[gridap.np + 1 : end], (2 * N, control.K)))\n",
    "else\n",
    "    ρ0 = ones(gridap.np)\n",
    "end\n",
    " \n",
    "ρf_vec = ρf_ρ0(ρ0; control, gridap)\n",
    "ρfh = FEFunction(gridap.FE_Pf, ρf_vec)\n",
    "ρth = (ρf -> Threshold(ρf; control)) ∘ ρfh\n",
    "        \n",
    "A_mat = MatrixA(ρth; phys, control, gridap)\n",
    "B_mat = MatrixB(ρth; control, gridap)\n",
    "@show sum(∫(ρth)gridap.dΩ_d) / sum(∫(1)gridap.dΩ_d)\n",
    "\n",
    "A0_mat = MatrixA0(phys, control, gridap)\n",
    "O_mat = MatrixOc(phys.k, phys.ϵ1; gridap)\n",
    "\n",
    "G_ii, V_raw, info = eigsolve(x -> A_mat \\ (A0_mat * x), rand(ComplexF64, N), 10, :LM)\n",
    "G_trace, W_raw, info = eigsolve(x -> MatrixG(x; A_mat, B_mat, O_mat), rand(ComplexF64, N), min(control.K, 10), :LM; krylovdim = 30)\n",
    "if !ImportFromFile\n",
    "    W_mat = rand(ComplexF64, N, control.K)\n",
    "    for ib = 1 : control.K\n",
    "        W_mat[:, ib] = W_raw[ib]\n",
    "    end\n",
    "end\n",
    "\n",
    "\n",
    "V_mat = rand(ComplexF64, N, control.K)\n",
    "for ib = 1 : min(control.K, 10)\n",
    "    V_mat[:, ib] = V_raw[ib]\n",
    "end\n",
    "U_mat = A_mat \\ (B_mat * W_mat)\n",
    "uh_eig = FEFunction(gridap.FE_U, V_mat[:, 1])\n",
    "uh = FEFunction(gridap.FE_U, U_mat[:, 1])\n",
    "\n",
    "fig, ax, plt = plot(gridap.Ω, real(1 + 11 * ρth), colormap = :binary)\n",
    "Colorbar(fig[1,2], plt)\n",
    "ax.aspect = AxisAspect(L/(H))\n",
    "ax.title = \"ε\"\n",
    "limits!(ax, -L/2, L/2, -phys.LHn[2], phys.LHp[2])\n",
    "save(\"Results/shape.png\", fig)\n",
    "fig"
   ]
  },
  {
   "cell_type": "code",
   "execution_count": null,
   "metadata": {},
   "outputs": [],
   "source": [
    "x_eig = W_mat[:, 3]\n",
    "g_trace = x_eig' * MatrixG(x_eig; A_mat, B_mat, O_mat) / (x_eig' * x_eig)\n",
    "abs(g_trace)"
   ]
  },
  {
   "cell_type": "code",
   "execution_count": null,
   "metadata": {},
   "outputs": [],
   "source": [
    "(abs.(G_trace))"
   ]
  },
  {
   "cell_type": "code",
   "execution_count": null,
   "metadata": {},
   "outputs": [],
   "source": [
    "# r = 0.5 uniform g = 13.301107377129648\n",
    "# 167.30018269788212 12.577913849905718\n",
    "sum(abs.(G_trace)), g_ρ(ρ0; O_mat, W_mat, phys, control, gridap)"
   ]
  },
  {
   "cell_type": "code",
   "execution_count": null,
   "metadata": {},
   "outputs": [],
   "source": [
    "uh = FEFunction(gridap.FE_U, B_mat * U_mat[:, 1])\n",
    "fig1, ax1, plt1 = plot(gridap.Ω, imag(uh), colormap = :bwr)\n",
    "Colorbar(fig1[1,2], plt1)\n",
    "ax1.aspect = AxisAspect(L/(H))\n",
    "ax1.title = \"real(Hz)\"\n",
    "limits!(ax1, -L/2, L/2, -phys.LHn[2], phys.LHp[2])\n",
    "fig1"
   ]
  },
  {
   "cell_type": "code",
   "execution_count": null,
   "metadata": {},
   "outputs": [],
   "source": [
    "uh_eig = FEFunction(gridap.FE_U, V_mat[:, 2])\n",
    "uh = FEFunction(gridap.FE_U, U_mat[:, 2])\n",
    "fig1, ax1, plt1 = plot(gridap.Ω, -real(uh), colormap = :bwr)\n",
    "Colorbar(fig1[1,2], plt1)\n",
    "ax1.aspect = AxisAspect(L/(H))\n",
    "ax1.title = \"real(Hz)\"\n",
    "limits!(ax1, -L/2, L/2, -phys.LHn[2], phys.LHp[2])\n",
    "save(\"Results/s_mode_2.png\", fig1)\n",
    "fig2, ax2, plt2 = plot(gridap.Ω, real(uh_eig), colormap = :bwr)\n",
    "Colorbar(fig2[1,2], plt2)\n",
    "ax2.aspect = AxisAspect(L/(H))\n",
    "ax2.title = \"real(Hz)\"\n",
    "limits!(ax2, -L/2, L/2, -phys.LHn[2], phys.LHp[2])\n",
    "save(\"Results/t_mode_2.png\", fig2)\n",
    "fig1\n"
   ]
  },
  {
   "cell_type": "code",
   "execution_count": null,
   "metadata": {},
   "outputs": [],
   "source": [
    "fig2"
   ]
  },
  {
   "cell_type": "code",
   "execution_count": null,
   "metadata": {},
   "outputs": [],
   "source": [
    "\n",
    "g_values = open(readdlm,\"gvalue.txt\")\n",
    "#g_values = open(readdlm,\"Results/L0.6_0.05_1.2.txt\")\n",
    "GLMakie.scatter(range(1, length(g_values[:]), step=1), g_values[:], markersize = 2)\n"
   ]
  },
  {
   "cell_type": "code",
   "execution_count": null,
   "metadata": {},
   "outputs": [],
   "source": [
    "N = num_free_dofs(gridap.FE_U)\n",
    "#ρW0 = rand(gridap.np + 2 * N * control.K) * 1\n",
    "ρW0 = readdlm(\"ρW_opt_value.txt\", Float64)\n",
    "ρW0 = ρW0[:]\n",
    "δρW = rand(gridap.np + 2 * N * control.K) * 1e-12\n",
    "\n",
    "O_mat = MatrixOc(phys.ω, phys.ϵ1; gridap)\n",
    "\n",
    "grad = zeros(gridap.np + 2 * N * control.K)\n",
    "g1 = g_ρW(ρW0 + δρW, []; O_mat, phys, control, gridap)\n",
    "g0 = g_ρW(ρW0, grad; O_mat, phys, control, gridap)\n",
    "g1 - g0, grad' * δρW"
   ]
  },
  {
   "cell_type": "code",
   "execution_count": null,
   "metadata": {},
   "outputs": [],
   "source": [
    "grad_max = zeros(gridap.np + 2 * N * control.K)\n",
    "g0 = g_ρW(ρW_max, grad_max; O_mat, phys, control, gridap)\n",
    "norm(grad_max), g0"
   ]
  },
  {
   "cell_type": "code",
   "execution_count": null,
   "metadata": {},
   "outputs": [],
   "source": [
    "α_step = 0.01\n",
    "g_ρW(ρW_max+grad_max*α_step, []; O_mat, phys, control, gridap)-g0"
   ]
  },
  {
   "cell_type": "code",
   "execution_count": null,
   "metadata": {},
   "outputs": [],
   "source": [
    "grad = zeros(gridap.np + 2 * N * control.K)\n",
    "δρW = rand(gridap.np + 2 * N * control.K) * 1e-12\n",
    "g1 = g_ρW(ρW_max+ δρW, []; O_mat, phys, control, gridap)\n",
    "g0 = g_ρW(ρW_max, grad; O_mat, phys, control, gridap)\n",
    "g1 - g0, grad' * δρW"
   ]
  },
  {
   "cell_type": "code",
   "execution_count": null,
   "metadata": {},
   "outputs": [],
   "source": [
    "ρW_max = readdlm(\"ρW_opt_value.txt\", Float64)\n",
    "#ρW_max = rand(gridap.np + 2 * N * control.K)\n",
    "ρW_max = ρW_max[:]\n",
    "W_mat = reinterpret(ComplexF64, reshape(ρW_max[gridap.np + 1 : end], (2 * N, control.K)))\n",
    "δρW = rand(gridap.np + 2 * N * control.K) * 1e-9\n",
    "δρW[1:gridap.np] = zeros(gridap.np)\n",
    "δW = reinterpret(ComplexF64, reshape(δρW[gridap.np + 1 : end], (2 * N, control.K)))\n",
    "#g1 = g_ρW(ρW_max+ δρW, []; O_mat, phys, control, gridap)\n",
    "#g0 = g_ρW(ρW_max, []; O_mat, phys, control, gridap)\n",
    "g1 = gt(A_mat, W_mat + δW, B_mat, O_mat)\n",
    "g0 = gt(A_mat, W_mat, B_mat, O_mat)\n",
    "dgdW = reinterpret(Float64, GridapEM.DgdW(A_mat, W_mat, B_mat, O_mat))\n",
    "g1 - g0, 2*dgdW[:]'*δρW[gridap.np+1:end]"
   ]
  },
  {
   "cell_type": "code",
   "execution_count": null,
   "metadata": {},
   "outputs": [],
   "source": [
    "grad' * δρW"
   ]
  },
  {
   "cell_type": "code",
   "execution_count": null,
   "metadata": {},
   "outputs": [],
   "source": [
    "grad[gridap.np+1:end]≈2*dgdW[:]"
   ]
  },
  {
   "cell_type": "code",
   "execution_count": null,
   "metadata": {},
   "outputs": [],
   "source": [
    "\n",
    "Nt = 100\n",
    "Kt = 4\n",
    "Atest = rand(ComplexF64, Nt, Nt)\n",
    "Wtest = rand(ComplexF64, Nt, Kt)\n",
    "δW = rand(ComplexF64, Nt, Kt) * 1e-6\n",
    "Btest = rand(ComplexF64, Nt, Nt)\n",
    "Btest = Btest' * Btest\n",
    "Otest = rand(ComplexF64, Nt, Nt)\n",
    "Otest = Otest' * Otest\n",
    "g1 = gt(Atest, Wtest + δW, Btest, Otest)\n",
    "g0 = gt(Atest, Wtest, Btest, Otest)\n",
    "dgdW = GridapEM.DgdW(Atest, Wtest, Btest, Otest)\n",
    "dgdWr = reinterpret(Float64, dgdW)\n",
    "δWr = reinterpret(Float64, δW)\n",
    "g1-g0, real(2*sum(conj(dgdW) .* δW)), 2*sum(dgdWr .* δWr)"
   ]
  },
  {
   "cell_type": "code",
   "execution_count": null,
   "metadata": {},
   "outputs": [],
   "source": [
    "function DgdW(A, W, B, O)\n",
    "    WBW = W' * B * W\n",
    "    U = A \\ (B * W)\n",
    "    B' * (A' \\ (O * (U / WBW))) - (B * W / WBW) * (U' * (O * (U / WBW)))\n",
    "end\n",
    "\n",
    "function gt(A, W, B, O)\n",
    "    U = A \\ (B * W)\n",
    "    g_temp = tr((U' * O * U) / (W' * B * W))\n",
    "    @show real(g_temp)\n",
    "    real(g_temp)\n",
    "end\n",
    "\n",
    "function gto(Wl, grad; A, B, O)\n",
    "    W = reinterpret(ComplexF64, reshape(Wl, (2 * N, control.K)))\n",
    "    if length(grad) > 0\n",
    "        dgdW = reinterpret(Float64, DgdW(A, W, B, O))\n",
    "        grad[:] = 2 * dgdW[:]\n",
    "    end\n",
    "    return gt(A, W, B, O)\n",
    "end"
   ]
  },
  {
   "cell_type": "code",
   "execution_count": null,
   "metadata": {},
   "outputs": [],
   "source": [
    "using NLopt\n",
    "using SparseArrays\n",
    "opt = Opt(:LD_MMA, 2 * N * control.K)\n",
    "opt.ftol_rel = 1e-4\n",
    "opt.maxeval = 100\n",
    "opt.max_objective = (Wl, grad) -> gto(Wl, grad; A=A_mat, B=spdiagm(diag(B_mat)), O=O_mat)\n",
    "(g_opt, W_opt, ret) = optimize(opt, rand(2 * N * control.K))"
   ]
  },
  {
   "cell_type": "code",
   "execution_count": null,
   "metadata": {},
   "outputs": [],
   "source": [
    "grad = zeros(2 * N * control.K)\n",
    "W = rand(2 * N * control.K) \n",
    "δW = rand(2 * N * control.K) * 1e-6\n",
    "g1 = gto(W+δW, []; A=A_mat, B=B_mat, O=O_mat)\n",
    "g0 = gto(W, grad; A=A_mat, B=B_mat, O=O_mat)\n",
    "g1 - g0, grad' * δW"
   ]
  },
  {
   "cell_type": "code",
   "execution_count": null,
   "metadata": {},
   "outputs": [],
   "source": [
    "maximum(grad)"
   ]
  },
  {
   "cell_type": "code",
   "execution_count": null,
   "metadata": {},
   "outputs": [],
   "source": []
  }
 ],
 "metadata": {
  "kernelspec": {
   "display_name": "Julia 1.6.0",
   "language": "julia",
   "name": "julia-1.6"
  },
  "language_info": {
   "file_extension": ".jl",
   "mimetype": "application/julia",
   "name": "julia",
   "version": "1.6.2"
  }
 },
 "nbformat": 4,
 "nbformat_minor": 4
}
