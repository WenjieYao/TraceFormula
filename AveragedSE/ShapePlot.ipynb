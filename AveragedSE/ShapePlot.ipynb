{
 "cells": [
  {
   "cell_type": "code",
   "execution_count": 1,
   "metadata": {},
   "outputs": [
    {
     "name": "stderr",
     "output_type": "stream",
     "text": [
      "┌ Info: Precompiling GridapEM [top-level]\n",
      "└ @ Base loading.jl:1342\n"
     ]
    }
   ],
   "source": [
    "push!(LOAD_PATH, \"/Users/jayyao/Documents/Research/TraceFormula/Module\")\n",
    "using GridapEM\n",
    "using Gridap\n",
    "using DelimitedFiles\n",
    "using KrylovKit\n",
    "using LinearAlgebra\n",
    "using GridapMakie\n",
    "using GLMakie"
   ]
  },
  {
   "cell_type": "code",
   "execution_count": 25,
   "metadata": {},
   "outputs": [
    {
     "data": {
      "text/plain": [
       "Process(`\u001b[4mscp\u001b[24m \u001b[4mwyao@txe1-login.mit.edu:/home/gridsan/wyao/Research/TraceFormula/AveragedSE/r0.9/task1/geometry.msh\u001b[24m \u001b[4m/Users/jayyao/Documents/Research/TraceFormula/AveragedSE/\u001b[24m`, ProcessExited(0))"
      ]
     },
     "execution_count": 25,
     "metadata": {},
     "output_type": "execute_result"
    }
   ],
   "source": [
    "run(`scp wyao@txe1-login.mit.edu:/home/gridsan/wyao/Research/TraceFormula/AveragedSE/r0.9/task1/geometry.msh /Users/jayyao/Documents/Research/TraceFormula/AveragedSE/`)"
   ]
  },
  {
   "cell_type": "code",
   "execution_count": 26,
   "metadata": {},
   "outputs": [
    {
     "name": "stdout",
     "output_type": "stream",
     "text": [
      "Info    : Reading 'geometry.msh'...\n",
      "Info    : 60 entities\n",
      "Info    : 34254 nodes\n",
      "Info    : 69252 elements\n",
      "Info    : Done reading 'geometry.msh'\n"
     ]
    },
    {
     "data": {
      "text/plain": [
       "ControllingParameters(true, true, [0.02, 0.02], 80.0, 0.5, 0.0005, 15, 30, 20, 1.0, true, 0.5, 0.0, 0.75, 0.25)"
      ]
     },
     "execution_count": 26,
     "metadata": {},
     "output_type": "execute_result"
    }
   ],
   "source": [
    "\"\"\"This part is used to define all parameters used\"\"\"\n",
    "# Geometry parameters of the mesh\n",
    "# Rectangular with center circle design domain\n",
    "λ = 1.0           # Wavelength\n",
    "L = 2.5           # Width of the rectangular domain\n",
    "H = 2.5           # Height of the rectangular domain\n",
    "rd = 0.9          # Radius of the design domain circle\n",
    "rt = rd + 0.2     # Radius of the target circle\n",
    "dpml = 0.5        # Thickness of PML\n",
    "\n",
    "# Characteristic length (controls the resolution, smaller the finer)\n",
    "resol = 40.0      # Number of points per wavelength\n",
    "l1 = λ / resol    # Normal region\n",
    "l2 = l1 / 2.0     # Design region\n",
    "l3 = 2 * l1       # PML\n",
    "\n",
    "# Physical parameters \n",
    "k = 2 * π / λ       # Wave number \n",
    "# Bloch wavevector\n",
    "kb = VectorValue(0.0, 0.0)     \n",
    "ω = k               # c=1\n",
    "ϵ1 = 1.0            # Relative electric permittivity for material 1 (y > 0)\n",
    "ϵ2 = 1.0            # Relative electric permittivity for material 2 (y < 0)\n",
    "ϵ3 = 0.0            # Relative electric permittivity for potential waveguide\n",
    "ϵd = 12.0           # Relative electric permittivity for design material\n",
    "μ = 1.0             # Relative magnetic permeability for all materials\n",
    "wg_center = [0, 0]  # Waveguide center if exist\n",
    "wg_size = [0, 0]    # Waveguide size if exist\n",
    "#LHp = [Inf, h1 + h2]\n",
    "#LHn = [Inf, h3]\n",
    "\n",
    "# PML parameters\n",
    "R = 1e-10           # Tolerence for PML reflection \n",
    "σ1 = -3 / 4 * log(R) / dpml / √ϵ1\n",
    "σ2 = -3 / 4 * log(R) / dpml / √ϵ2\n",
    "σs = [σ1, σ2]\n",
    "############  Optimization parameters #############\n",
    "flag_f = true       # Turn on filter\n",
    "flag_t = true       # Turn on threshold\n",
    "\n",
    "# Filter and threshold paramters\n",
    "r = [0.02 * λ, 0.02 * λ]  # Filter radius\n",
    "β = 80.0                  # β∈[1,∞], threshold sharpness\n",
    "η = 0.5                   # η∈[0,1], threshold center\n",
    "\n",
    "α = 1.0 / (2 * 1000.0)    # Equivalent loss α = 1/2Q\n",
    "\n",
    "# Number of subspace\n",
    "K = 20\n",
    "\n",
    "# Amplify g for NLopt\n",
    "Amp = 1\n",
    "\n",
    "# Sum over kx\n",
    "nkx = 30\n",
    "nparts = nkx / 2\n",
    "\n",
    "Bρ = true          # Matrix B depend on parameters?\n",
    "ρv = 0.5\n",
    "\n",
    "# Foundary constraint parameters\n",
    "c = 0#resol^4\n",
    "lw = r[1]\n",
    "ls = r[1]\n",
    "ηe = fηe(lw / r[1])\n",
    "ηd = fηd(lw / r[1])\n",
    "\n",
    "\n",
    "# Create mesh file\n",
    "geo_param = CirRecGeometry(L, H, rd, rt, dpml, l1, l2, l3)\n",
    "#geo_param = PeriodicGeometry(L, h1, h2, h3, ht, hs, dpml, l1, l2, l3)\n",
    "meshfile_name = \"geometry.msh\"\n",
    "#MeshGenerator(geo_param, meshfile_name)\n",
    "\n",
    "# Apply gridap finite element analysis to mesh file\n",
    "gridap = GridapFE(meshfile_name, 1, 2, [\"DirichletEdges\", \"DirichletNodes\"], [\"DesignNodes\", \"DesignEdges\"], [\"Target\"], [], flag_f)\n",
    "#run(`gmsh geometry.msh`)\n",
    "\n",
    "# Change default physics parameters\n",
    "LHp=[L / 2, H / 2]  # Start of PML for x,y > 0\n",
    "LHn=[L / 2, H / 2]  # Start of PML for x,y < 0\n",
    "\n",
    "phys = PhysicalParameters(k, kb, ω, ϵ1, ϵ2, ϵ3, ϵd, μ, R, σs, dpml, LHp, LHn, wg_center, wg_size)\n",
    "\n",
    "control = ControllingParameters(flag_f, flag_t, r, β, η, α, nparts, nkx, K, Amp, Bρ, ρv, c, ηe, ηd)\n",
    "\n",
    "# ρ_circ(x, r) = (x[1]^2 + x[2]^2) < r^2 ? 1 : 0\n",
    "# r_init = (rd - rd / sqrt(2)) * 1 + rd / sqrt(2)\n",
    "# lc_temp(v) = ∫(v * x->ρ_circ(x, r_init))gridap.dΩ\n",
    "# ρc_vec = assemble_vector(lc_temp, gridap.FE_P)\n",
    "# ρ_init = ρ_extract(ρc_vec; gridap)\n",
    "# #ρ_init[ρ_init .< 0.5] .= 0\n",
    "# ρ_init[ρ_init .> 0] .= 0.5\n",
    "# @show sum(ρ_init) / gridap.np, maximum(ρ_init)\n"
   ]
  },
  {
   "cell_type": "code",
   "execution_count": 27,
   "metadata": {},
   "outputs": [
    {
     "name": "stdout",
     "output_type": "stream",
     "text": [
      "sum(∫(ρth) * gridap.dΩ_d) / sum(∫(1) * gridap.dΩ_d) = 0.4672965666922608\n"
     ]
    }
   ],
   "source": [
    "# Output and view\n",
    "for task = 3 : 3\n",
    "ImportFromFile = true\n",
    "g_opt = readdlm(\"r$(rd)/task$(task)/g_opt_value.txt\", Float64)\n",
    "\n",
    "N = num_free_dofs(gridap.FE_U)\n",
    "if ImportFromFile\n",
    "    ρW_max = readdlm(\"r$(rd)/task$(task)/pW_opt_value.txt\", Float64)\n",
    "    ρW_max = ρW_max[:]\n",
    "    ρ0 = ρW_max[1 : gridap.np]\n",
    "    W_mat = reinterpret(ComplexF64, reshape(ρW_max[gridap.np + 1 : end], (2 * N, control.K)))\n",
    "else\n",
    "    ρ0 = ones(gridap.np)\n",
    "end\n",
    " \n",
    "ρf_vec = ρf_ρ0(ρ0; control, gridap)\n",
    "ρfh = FEFunction(gridap.FE_Pf, ρf_vec)\n",
    "ρth = (ρf -> Threshold(ρf; control)) ∘ ρfh\n",
    "        \n",
    "A_mat = MatrixA(ρth; phys, control, gridap)\n",
    "B_mat = MatrixB(ρth; control, gridap)\n",
    "@show sum(∫(ρth)gridap.dΩ_d) / sum(∫(1)gridap.dΩ_d)\n",
    "\n",
    "A0_mat = MatrixA0(phys, control, gridap)\n",
    "O_mat = MatrixOc(phys.k, phys.ϵ1; gridap)\n",
    "\n",
    "G_ii, V_raw, info = eigsolve(x -> A_mat \\ (A0_mat * x), rand(ComplexF64, N), 10, :LM)\n",
    "G_trace, W_raw, info = eigsolve(x -> MatrixG(x; A_mat, B_mat, O_mat), rand(ComplexF64, N), min(control.K, 10), :LM; krylovdim = 30)\n",
    "if !ImportFromFile\n",
    "    W_mat = rand(ComplexF64, N, control.K)\n",
    "    for ib = 1 : control.K\n",
    "        W_mat[:, ib] = W_raw[ib]\n",
    "    end\n",
    "end\n",
    "\n",
    "V_mat = rand(ComplexF64, N, control.K)\n",
    "for ib = 1 : min(control.K, 10)\n",
    "    V_mat[:, ib] = V_raw[ib]\n",
    "end\n",
    "U_mat = A_mat \\ (B_mat * W_mat)\n",
    "uh_eig = FEFunction(gridap.FE_U, V_mat[:, 1])\n",
    "uh = FEFunction(gridap.FE_U, U_mat[:, 1])\n",
    "\n",
    "fig, ax, plt = plot(gridap.Ω, real(1 + 11 * ρth), colormap = :binary)\n",
    "Colorbar(fig[1,2], plt)\n",
    "ax.aspect = AxisAspect(L/(H))\n",
    "ax.title = \"ε\"\n",
    "limits!(ax, -L/2, L/2, -phys.LHn[2], phys.LHp[2])\n",
    "save(\"Results/shape_r$(rd)_$(task)_$(Int(floor(g_opt[end]))).png\", fig)\n",
    "end"
   ]
  },
  {
   "cell_type": "code",
   "execution_count": 16,
   "metadata": {},
   "outputs": [
    {
     "data": {
      "text/plain": [
       "143"
      ]
     },
     "execution_count": 16,
     "metadata": {},
     "output_type": "execute_result"
    }
   ],
   "source": []
  },
  {
   "cell_type": "code",
   "execution_count": null,
   "metadata": {},
   "outputs": [],
   "source": []
  }
 ],
 "metadata": {
  "kernelspec": {
   "display_name": "Julia 1.6.0",
   "language": "julia",
   "name": "julia-1.6"
  },
  "language_info": {
   "file_extension": ".jl",
   "mimetype": "application/julia",
   "name": "julia",
   "version": "1.6.2"
  }
 },
 "nbformat": 4,
 "nbformat_minor": 2
}
