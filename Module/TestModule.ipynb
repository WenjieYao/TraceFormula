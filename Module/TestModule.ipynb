{
 "cells": [
  {
   "cell_type": "code",
   "execution_count": 1,
   "metadata": {},
   "outputs": [
    {
     "data": {
      "text/plain": [
       "VectorO (generic function with 1 method)"
      ]
     },
     "execution_count": 1,
     "metadata": {},
     "output_type": "execute_result"
    }
   ],
   "source": [
    "using Gmsh\n",
    "using Gridap\n",
    "using GridapGmsh\n",
    "using GridapMakie\n",
    "using GLMakie\n",
    "using SparseArrays\n",
    "using ChainRulesCore\n",
    "using Zygote\n",
    "using LinearAlgebra\n",
    "using KrylovKit\n",
    "using PartitionedArrays\n",
    "using NLopt\n",
    "using DelimitedFiles\n",
    "using Gridap.Geometry\n",
    "using Gridap.Fields\n",
    "\n",
    "import ChainRulesCore: rrule\n",
    "import Gmsh: gmsh\n",
    "\n",
    "include(\"Mesh_Periodic.jl\")\n",
    "include(\"Mesh_CR.jl\")\n",
    "include(\"Mesh_RR.jl\")\n",
    "include(\"Control.jl\")\n",
    "include(\"Helper.jl\")\n",
    "include(\"GridapFE.jl\")\n",
    "include(\"Model.jl\")"
   ]
  },
  {
   "cell_type": "code",
   "execution_count": 2,
   "metadata": {
    "collapsed": true
   },
   "outputs": [
    {
     "name": "stdout",
     "output_type": "stream",
     "text": [
      "Info    : Clearing all models and views...\n",
      "Info    : Done clearing all models and views\n",
      "Info    : Meshing 1D...\n",
      "Info    : Meshing curve 1 (Line)\n",
      "Info    : Meshing curve 2 (Line)\n",
      "Info    : Meshing curve 3 (Line)\n",
      "Info    : Meshing curve 4 (Line)\n",
      "Info    : Meshing curve 5 (Line)\n",
      "Info    : Meshing curve 6 (Line)\n",
      "Info    : Meshing curve 7 (Line)\n",
      "Info    : Meshing curve 8 (Line)\n",
      "Info    : Meshing curve 9 (Line)\n",
      "Info    : Meshing curve 10 (Line)\n",
      "Info    : Meshing curve 11 (Line)\n",
      "Info    : Meshing curve 12 (Line)\n",
      "Info    : Meshing curve 13 (Line)\n",
      "Info    : Meshing curve 14 (Line)\n",
      "Info    : Meshing curve 15 (Line)\n",
      "Info    : Meshing curve 16 (Line)\n",
      "Info    : Meshing curve 17 (Line)\n",
      "Info    : Meshing curve 18 (Line)\n",
      "Info    : Meshing curve 19 (Line)\n",
      "Info    : Meshing curve 20 (Line)\n",
      "Info    : Meshing curve 21 (Line)\n",
      "Info    : Meshing curve 22 (Line)\n",
      "Info    : Meshing curve 23 (Line)\n",
      "Info    : Meshing curve 24 (Line)\n",
      "Info    : Meshing curve 25 (Circle)\n",
      "Info    : Meshing curve 26 (Circle)\n",
      "Info    : Meshing curve 27 (Circle)\n",
      "Info    : Meshing curve 28 (Circle)\n",
      "Info    : Done meshing 1D (0.007728 s)\n",
      "Info    : Meshing 2D...\n",
      "Info    : Meshing surface 1 (Plane, Frontal)\n",
      "Info    : Meshing surface 2 (Plane, Frontal)\n",
      "Info    : Meshing surface 3 (Plane, Frontal)\n",
      "Info    : Meshing surface 4 (Plane, Frontal)\n",
      "Info    : Meshing surface 5 (Plane, Frontal)\n",
      "Info    : Meshing surface 6 (Plane, Frontal)\n",
      "Info    : Meshing surface 7 (Plane, Frontal)\n",
      "Info    : Meshing surface 8 (Plane, Frontal)\n",
      "Info    : Meshing surface 9 (Plane, Frontal)\n",
      "Info    : Meshing surface 10 (Plane, Frontal)\n",
      "Info    : Done meshing 2D (0.377468 s)\n",
      "Info    : 9327 vertices 19262 elements\n",
      "Info    : Writing 'geometry.msh'...\n",
      "Info    : Done writing 'geometry.msh'\n",
      "Info    : Reading 'geometry.msh'...\n",
      "Info    : 60 entities\n",
      "Info    : 9325 nodes\n",
      "Info    : 18930 elements\n",
      "Info    : Done reading 'geometry.msh'\n"
     ]
    },
    {
     "data": {
      "text/plain": [
       "GridapParameters(UnconstrainedFESpace(), UnconstrainedFESpace(), UnconstrainedFESpace(), UnconstrainedFESpace(), UnconstrainedFESpace(), UnconstrainedFESpace(), 4650, UnstructuredGrid(), Measure(), Measure(), Measure(), Measure[Measure()], Measure(), Gridap.CellData.GenericCellField[GenericCellField()], Int8[6, 6, 6, 6, 6, 6, 6, 6, 6, 6  …  7, 7, 7, 7, 7, 7, 7, 7, 7, 7], 7)"
      ]
     },
     "execution_count": 2,
     "metadata": {},
     "output_type": "execute_result"
    }
   ],
   "source": [
    "include(\"DefaultParameters.jl\")\n",
    "\n",
    "# Change default geometry parameters\n",
    "rd = 0.5\n",
    "rt = rd + 0.2\n",
    "\n",
    "# Create mesh file\n",
    "geo_param = CirRecGeometry(L, H, rd, rt, dpml, l1, l2, l3)\n",
    "#geo_param = PeriodicGeometry(L, h1, h2, h3, ht, hs, dpml, l1, l2, l3)\n",
    "meshfile_name = \"geometry.msh\"\n",
    "MeshGenerator(geo_param, meshfile_name)\n",
    "\n",
    "# Apply gridap finite element analysis to mesh file\n",
    "gridap = GridapFE(meshfile_name, 1, 2, [\"DirichletEdges\", \"DirichletNodes\"], [\"DesignNodes\", \"DesignEdges\"], [\"Target\"], [], flag_f)\n",
    "#run(`gmsh geometry.msh`)"
   ]
  },
  {
   "cell_type": "code",
   "execution_count": 3,
   "metadata": {},
   "outputs": [
    {
     "data": {
      "text/plain": [
       "ControllingParameters(true, true, [0.02, 0.02], 40.0, 0.5, 0.0005, 15, 30, 20, 1.0, true, 0.5, 0.0, 0.75, 0.25)"
      ]
     },
     "execution_count": 3,
     "metadata": {},
     "output_type": "execute_result"
    }
   ],
   "source": [
    "# Change default physics parameters\n",
    "kb = VectorValue(2*π*0.,0)\n",
    "LHp=[L / 2, H / 2]  # Start of PML for x,y > 0\n",
    "LHn=[L / 2, H / 2]  # Start of PML for x,y < 0\n",
    "\n",
    "phys = PhysicalParameters(k, kb, ω, ϵ1, ϵ2, ϵ3, ϵd, μ, R, σs, dpml, LHp, LHn, wg_center, wg_size)\n",
    "\n",
    "# Change default control parameters\n",
    "Bρ = true\n",
    "ρv = 0.5\n",
    "\n",
    "control = ControllingParameters(flag_f, flag_t, r, β, η, α, nparts, nkx, K, Amp, Bρ, ρv, c, ηe, ηd)"
   ]
  },
  {
   "cell_type": "code",
   "execution_count": 13,
   "metadata": {},
   "outputs": [
    {
     "data": {
      "text/plain": [
       "g_ρ (generic function with 2 methods)"
      ]
     },
     "execution_count": 13,
     "metadata": {},
     "output_type": "execute_result"
    }
   ],
   "source": [
    "NO_FIELDS = ZeroTangent()\n",
    "# Objective trace \n",
    "function g_ρf(ρf_vec; O_mat, B_mat, W_mat, phys, control, gridap)\n",
    "    ρfh = FEFunction(gridap.FE_Pf, ρf_vec)\n",
    "    ρth = (ρf -> Threshold(ρf; control)) ∘ ρfh\n",
    "    A_mat = MatrixA(ρth; phys, control, gridap)\n",
    "    U_mat = A_mat \\ (B_mat * W_mat)\n",
    "    g_temp = tr((U_mat' * O_mat * U_mat) / (W_mat' * B_mat * W_mat))\n",
    "    @assert abs(imag(g_temp) / real(g_temp)) < 1e-6\n",
    "    real(g_temp)\n",
    "end\n",
    "\n",
    "#ρf = ρf_ρ0(ρ0)\n",
    "function ρf_ρ0(ρ0; control, gridap)\n",
    "    ρ_vec = ρ_extend(ρ0; gridap)\n",
    "    ρf_vec = Filter(ρ_vec; control, gridap)\n",
    "    ρf_vec[ρf_vec .< 0] .= 0\n",
    "    ρf_vec[ρf_vec .> 1] .= 1.0\n",
    "    ρf_vec\n",
    "end\n",
    "\n",
    "function MatrixG(x::Vector; A_mat, B_mat, O_mat)\n",
    "    A_mat' \\ (O_mat * (A_mat \\ (B_mat * x)))\n",
    "end\n",
    "\n",
    "# Chain Rule : \n",
    "\n",
    "# dg/dρf=dg/dg * dg/dρf\n",
    "function rrule(::typeof(g_ρf), ρf_vec; O_mat, B_mat, W_mat, phys, control, gridap)\n",
    "    function U_pullback(dgdg)\n",
    "      NO_FIELDS, dgdg * Dgdρf(ρf_vec, O_mat, B_mat, W_mat; phys, control, gridap)\n",
    "    end\n",
    "    g_ρf(ρf_vec; O_mat, B_mat, W_mat, phys, control, gridap), U_pullback\n",
    "end\n",
    "\n",
    "Dρtdρf(ρf; control) = control.flag_t ? control.β * (1.0 - tanh(control.β * (ρf - control.η))^2) / (tanh(control.β * control.η) + tanh(control.β * (1.0 - control.η))) : 1.0\n",
    "\n",
    "Dξdρf(ρf, ϵmin, ϵmax; control)= (ϵmin - ϵmax) / (ϵmin + (ϵmax - ϵmin) * Threshold(ρf; control))^2 / (1 + control.α * 1im) * Dρtdρf(ρf; control)\n",
    "\n",
    "DAdρf(ρfh, u, v; phys, control, gridap) = ((ρf -> Dξdρf(ρf, phys.ϵ1, phys.ϵd; control)) ∘ ρfh) * ((∇(v) - 1im *phys.kb * v) ⊙ (∇(u) + 1im *phys.kb * u))\n",
    "\n",
    "DBdρf(ρfh, u, v; control, gridap) = ((ρf -> Dρtdρf(ρf; control)) ∘ ρfh) * (∇(v) ⊙ ∇(u))\n",
    "\n",
    "function Dgdρf(ρf_vec, O_mat, B_mat, W_mat; phys, control, gridap)\n",
    "    ρfh = FEFunction(gridap.FE_Pf, ρf_vec)\n",
    "    ρth = (ρf -> Threshold(ρf; control)) ∘ ρfh\n",
    "    A_mat = MatrixA(ρth; phys, control, gridap)\n",
    "    U_mat = A_mat \\ (B_mat * W_mat)\n",
    "    WBW = W_mat' * B_mat * W_mat\n",
    "    #dgdU = (O_mat * U_mat) / WBW\n",
    "    #Z_mat = A_mat' \\ dgdU\n",
    "    Z_mat = A_mat' \\ ((O_mat * U_mat) / WBW)\n",
    "    Wr_mat = W_mat / WBW\n",
    "    #Wl_mat = W_mat * dgdU' * U_mat\n",
    "    Wl_mat = W_mat / WBW * (U_mat' * O_mat * U_mat)\n",
    "    \n",
    "    dgdρf = zeros(num_free_dofs(gridap.FE_Pf))\n",
    "    for k_i = 1 : size(W_mat)[2]\n",
    "        uh = FEFunction(gridap.FE_U, U_mat[:, k_i])\n",
    "        zh = FEFunction(gridap.FE_V, conj(Z_mat[:, k_i]))\n",
    "        \n",
    "        l_temp1(dρ) = ∫(- 2 * real(DAdρf(ρfh, uh, zh; phys, control, gridap)) * dρ)gridap.dΩ_d\n",
    "        dgdρf += assemble_vector(l_temp1, gridap.FE_Pf)\n",
    "        if control.Bρ\n",
    "            wh = FEFunction(gridap.FE_U, W_mat[:, k_i])\n",
    "            wrh = FEFunction(gridap.FE_U, Wr_mat[:, k_i])\n",
    "            wlh = FEFunction(gridap.FE_V, conj(Wl_mat[:, k_i]))\n",
    "            l_temp2(dρ) = ∫(real(2 * DBdρf(ρfh, wh, zh; control, gridap) - DBdρf(ρfh, wrh, wlh; control, gridap)) * dρ)gridap.dΩ_d\n",
    "            dgdρf += assemble_vector(l_temp2, gridap.FE_Pf)\n",
    "        end\n",
    "    end\n",
    "    return dgdρf\n",
    "end\n",
    "        \n",
    "# dg/dρ=dg/dρf*dρf/dρ\n",
    "function rrule(::typeof(ρf_ρ0), ρ0; control, gridap)\n",
    "  function ρf_pullback(dgdρf)\n",
    "    NO_FIELDS, Dgdρ(dgdρf; control, gridap)\n",
    "  end\n",
    "  ρf_ρ0(ρ0; control, gridap), ρf_pullback\n",
    "end\n",
    "\n",
    "function Dgdρ(dgdρf; control, gridap)\n",
    "    if control.flag_f\n",
    "        Af = assemble_matrix(gridap.FE_Pf, gridap.FE_Qf) do u, v\n",
    "            ∫(a_f(control.r, u, v))gridap.dΩ_d + ∫(v * u)gridap.dΩ\n",
    "        end\n",
    "        λvec = Af' \\ dgdρf\n",
    "        λh = FEFunction(gridap.FE_Pf, λvec)\n",
    "        l_temp(dρ) = ∫(λh * dρ)gridap.dΩ\n",
    "        return ρ_extract(assemble_vector(l_temp, gridap.FE_P); gridap)\n",
    "    else\n",
    "        return ρ_extract(dgdρf; gridap)\n",
    "    end\n",
    "end\n",
    "\n",
    "# Final objective function\n",
    "function g_ρ(ρ0::Vector; O_mat, B_mat, W_mat, phys, control, gridap)\n",
    "    ρf_vec = ρf_ρ0(ρ0; control, gridap)\n",
    "    g_ρf(ρf_vec; O_mat, B_mat, W_mat, phys, control, gridap)\n",
    "end\n",
    "\n",
    "function g_ρ(ρ0::Vector, grad::Vector; O_mat, B_mat, W_mat, phys, control, gridap)\n",
    "    if length(grad) > 0\n",
    "        dgdρ, = Zygote.gradient(ρ -> g_ρ(ρ; O_mat, B_mat, W_mat, phys, control, gridap), ρ0)\n",
    "        grad[:] = dgdρ\n",
    "    end\n",
    "    g_value = g_ρ(ρ0::Vector; O_mat, B_mat, W_mat, phys, control, gridap)\n",
    "    return g_value\n",
    "end"
   ]
  },
  {
   "cell_type": "code",
   "execution_count": 15,
   "metadata": {},
   "outputs": [
    {
     "data": {
      "text/plain": [
       "(2.6021037756451815e-7, 1.3527208929179652e-7)"
      ]
     },
     "execution_count": 15,
     "metadata": {},
     "output_type": "execute_result"
    }
   ],
   "source": [
    "flag_f = true\n",
    "flag_t = true\n",
    "Bρ = true\n",
    "α = 2 / 1000\n",
    "#gridap = GridapFE(meshfile_name, 1, 2, [\"DirichletEdges\", \"DirichletNodes\"], [\"DesignNodes\", \"DesignEdges\"], [\"Target\"], [], flag_f)\n",
    "control = ControllingParameters(flag_f, flag_t, r, β, η, α, nparts, nkx, K, Amp, Bρ, ρv, c, ηe, ηd)\n",
    "\n",
    "ρ0 = rand(gridap.np) * 1\n",
    "δρ = rand(gridap.np) * 1e-6\n",
    "ρf_vec = ρf_ρ0(ρ0; control, gridap)\n",
    "ρfh = FEFunction(gridap.FE_Pf, ρf_vec)\n",
    "ρth = (ρh -> Threshold(ρh; control)) ∘ ρfh\n",
    "\n",
    "N = num_free_dofs(gridap.FE_U)\n",
    "W_mat = rand(ComplexF64, N, control.K)\n",
    "B_mat = MatrixB(ρth; control, gridap)\n",
    "O_mat = MatrixOc(phys.ω, phys.ϵ1; gridap)\n",
    "\n",
    "grad = zeros(gridap.np)\n",
    "g1 = g_ρ(ρ0 + δρ; O_mat, B_mat, W_mat, phys, control, gridap)\n",
    "g0 = g_ρ(ρ0, grad; O_mat, B_mat, W_mat, phys, control, gridap)\n",
    "g1 - g0, grad' * δρ"
   ]
  },
  {
   "cell_type": "code",
   "execution_count": null,
   "metadata": {},
   "outputs": [],
   "source": [
    "sum(∫(ρth)gridap.dΩ_d)"
   ]
  },
  {
   "cell_type": "code",
   "execution_count": null,
   "metadata": {},
   "outputs": [],
   "source": [
    "ρ0 = rand(gridap.np) * 1\n",
    "ρf_vec = ρf_ρ0(ρ0; control, gridap)\n",
    "ρfh = FEFunction(gridap.FE_Pf, ρf_vec)\n",
    "ρth = (ρh -> Threshold(ρh; control)) ∘ ρfh\n",
    "\n",
    "N = num_free_dofs(gridap.FE_U)\n",
    "W_mat = rand(ComplexF64, N, control.K)\n",
    "A_mat = MatrixA(ρth; phys, control, gridap)\n",
    "B_mat = MatrixB(ρth; control, gridap)\n",
    "O_mat = MatrixOc(phys.ω, phys.ϵ1; gridap)\n",
    "\n",
    "G_ii, W_raw, info = eigsolve(x -> MatrixG(x; A_mat, B_mat, O_mat), rand(ComplexF64,N), control.K, :LM; krylovdim=30)\n",
    "for ib = 1 : control.K\n",
    "    W_mat[:, ib] = W_raw[ib]\n",
    "end\n",
    "WBW = W_mat' * B_mat * W_mat\n",
    "U_mat = U_ρf(ρf_vec; B_mat, W_mat, phys, control, gridap)\n",
    "sum(real.(G_ii)), g_U(U_mat; O_mat, WBW)"
   ]
  },
  {
   "cell_type": "code",
   "execution_count": null,
   "metadata": {},
   "outputs": [],
   "source": [
    "PowerMatrixTemp = A_mat \\ (A_mat\\ Matrix(B_mat))\n",
    "PowerVector = diag(PowerMatrixTemp)\n",
    "Ih = FEFunction(gridap.FE_U, PowerVector)"
   ]
  },
  {
   "cell_type": "code",
   "execution_count": null,
   "metadata": {},
   "outputs": [],
   "source": [
    "fig, ax, plt = plot(gridap.Ω, real(Ih), colormap=:heat)\n",
    "Colorbar(fig[1,2], plt)\n",
    "ax.aspect = AxisAspect(L/H)\n",
    "limits!(ax, -L/2, L/2, -phys.LHn[2], phys.LHp[2])\n",
    "fig"
   ]
  },
  {
   "cell_type": "code",
   "execution_count": null,
   "metadata": {},
   "outputs": [],
   "source": [
    "\n",
    "#btest(v) = ∫(v*(x -> GaussianD(x, [0.0, 0.0], [l1, l1])))gridap.dΩ\n",
    "btest(v) = ∫(v)gridap.dΓ_s\n",
    "b_vec = assemble_vector(btest, gridap.FE_V)\n",
    "A_mat = MatrixA(ρth; phys, control, gridap)\n",
    "#B_mat = MatrixB(ρth; control, gridap)\n",
    "\n",
    "u_vec = A_mat\\b_vec\n",
    "uh = FEFunction(gridap.FE_U, u_vec)*(x->cis(phys.kb⋅x))\n",
    "\n",
    "fig, ax, plt = plot(gridap.Ω, real(uh), colormap=:bwr)\n",
    "Colorbar(fig[1,2], plt)\n",
    "ax.aspect = AxisAspect(L/(H))\n",
    "limits!(ax, -L/2, L/2, -phys.LHn[2], phys.LHp[2])\n",
    "fig"
   ]
  },
  {
   "cell_type": "code",
   "execution_count": null,
   "metadata": {},
   "outputs": [],
   "source": [
    "btest(v) = ∫(v*(x -> GaussianD(x, [-0.1, -0.5], [l1, l1])))gridap.dΩ\n",
    "b_vec = assemble_vector(btest, gridap.FE_V)\n",
    "u_vec = A_mat\\b_vec\n",
    "uh = FEFunction(gridap.FE_U, u_vec)\n",
    "\n",
    "fig, ax, plt = plot(gridap.Ω, real(uh), colormap=:bwr)\n",
    "Colorbar(fig[1,2], plt)\n",
    "ax.aspect = AxisAspect(L/(h1+h2+h3))\n",
    "limits!(ax, -L/2, L/2, -phys.LHn[2], phys.LHp[2])\n",
    "fig"
   ]
  },
  {
   "cell_type": "code",
   "execution_count": null,
   "metadata": {},
   "outputs": [],
   "source": []
  }
 ],
 "metadata": {
  "@webio": {
   "lastCommId": null,
   "lastKernelId": null
  },
  "kernelspec": {
   "display_name": "Julia 1.6.0",
   "language": "julia",
   "name": "julia-1.6"
  },
  "language_info": {
   "file_extension": ".jl",
   "mimetype": "application/julia",
   "name": "julia",
   "version": "1.6.2"
  }
 },
 "nbformat": 4,
 "nbformat_minor": 2
}
