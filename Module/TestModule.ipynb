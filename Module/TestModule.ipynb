{
 "cells": [
  {
   "cell_type": "code",
   "execution_count": 22,
   "metadata": {},
   "outputs": [
    {
     "data": {
      "text/plain": [
       "GridapFE (generic function with 1 method)"
      ]
     },
     "execution_count": 22,
     "metadata": {},
     "output_type": "execute_result"
    }
   ],
   "source": [
    "using Gmsh\n",
    "using Gridap\n",
    "using GridapGmsh\n",
    "using SparseArrays\n",
    "using ChainRulesCore\n",
    "using Zygote\n",
    "using LinearAlgebra\n",
    "using KrylovKit\n",
    "using PartitionedArrays\n",
    "using NLopt\n",
    "using DelimitedFiles\n",
    "\n",
    "import ChainRulesCore: rrule\n",
    "import Gmsh: gmsh\n",
    "\n",
    "include(\"Mesh_Periodic.jl\")\n",
    "include(\"Mesh_CR.jl\")\n",
    "include(\"Mesh_RR.jl\")\n",
    "include(\"Control.jl\")\n",
    "include(\"Helper.jl\")\n",
    "include(\"GridapFE.jl\")"
   ]
  },
  {
   "cell_type": "code",
   "execution_count": 23,
   "metadata": {
    "collapsed": true
   },
   "outputs": [
    {
     "name": "stdout",
     "output_type": "stream",
     "text": [
      "Info    : No current model available: creating one\n",
      "Info    : Clearing all models and views...\n",
      "Info    : Done clearing all models and views\n",
      "Info    : Meshing 1D...\n",
      "Info    : Meshing curve 1 (Line)\n",
      "Info    : Meshing curve 2 (Line)\n",
      "Info    : Meshing curve 3 (Line)\n",
      "Info    : Meshing curve 4 (Line)\n",
      "Info    : Meshing curve 5 (Line)\n",
      "Info    : Meshing curve 6 (Line)\n",
      "Info    : Meshing curve 7 (Line)\n",
      "Info    : Meshing curve 8 (Line)\n",
      "Info    : Meshing curve 9 (Line)\n",
      "Info    : Meshing curve 10 (Line)\n",
      "Info    : Meshing curve 11 (Line)\n",
      "Info    : Meshing curve 12 (Line)\n",
      "Info    : Meshing curve 13 (Line)\n",
      "Info    : Meshing curve 14 (Line)\n",
      "Info    : Meshing curve 15 (Line)\n",
      "Info    : Meshing curve 16 (Line)\n",
      "Info    : Meshing curve 17 (Line)\n",
      "Info    : Meshing curve 18 (Line)\n",
      "Info    : Meshing curve 19 (Line)\n",
      "Info    : Meshing curve 20 (Line)\n",
      "Info    : Meshing curve 21 (Line)\n",
      "Info    : Meshing curve 22 (Line)\n",
      "Info    : Meshing curve 23 (Line)\n",
      "Info    : Meshing curve 24 (Line)\n",
      "Info    : Meshing curve 25 (Circle)\n",
      "Info    : Meshing curve 26 (Circle)\n",
      "Info    : Meshing curve 27 (Circle)\n",
      "Info    : Meshing curve 28 (Circle)\n",
      "Info    : Done meshing 1D (0.008634 s)\n",
      "Info    : Meshing 2D...\n",
      "Info    : Meshing surface 1 (Plane, Frontal)\n",
      "Info    : Meshing surface 2 (Plane, Frontal)\n",
      "Info    : Meshing surface 3 (Plane, Frontal)\n",
      "Info    : Meshing surface 4 (Plane, Frontal)\n",
      "Info    : Meshing surface 5 (Plane, Frontal)\n",
      "Info    : Meshing surface 6 (Plane, Frontal)\n",
      "Info    : Meshing surface 7 (Plane, Frontal)\n",
      "Info    : Meshing surface 8 (Plane, Frontal)\n",
      "Info    : Meshing surface 9 (Plane, Frontal)\n",
      "Info    : Meshing surface 10 (Plane, Frontal)\n",
      "Info    : Done meshing 2D (0.37741 s)\n",
      "Info    : 9327 vertices 19262 elements\n",
      "Info    : Writing 'geometry.msh'...\n",
      "Info    : Done writing 'geometry.msh'\n"
     ]
    }
   ],
   "source": [
    "λ = 1.0           # Wavelength\n",
    "L = 2.5           # Width of the rectangular domain\n",
    "H = 2.5           # Height of the rectangular domain\n",
    "rd = 0.5          # Radius of the design domain circle\n",
    "rt = rd + 0.2     # Radius of the target circle\n",
    "dpml = 0.5        # Thickness of PML\n",
    "\n",
    "# Characteristic length (controls the resolution, smaller the finer)\n",
    "resol = 25.0      # Number of points per wavelength\n",
    "l1 = λ/resol      # Normal region\n",
    "l2 = l1/2.0       # Design region\n",
    "l3 = 2*l1         # PML\n",
    "\n",
    "geo_param = CirRecGeometry(L,H,rd,rt,dpml,l1,l2,l3)\n",
    "\n",
    "meshfile_name = \"geometry.msh\"\n",
    "MeshGenerator(geo_param, meshfile_name)"
   ]
  },
  {
   "cell_type": "code",
   "execution_count": 24,
   "metadata": {},
   "outputs": [
    {
     "data": {
      "text/plain": [
       "Process(`\u001b[4mgmsh\u001b[24m \u001b[4mgeometry.msh\u001b[24m`, ProcessExited(0))"
      ]
     },
     "execution_count": 24,
     "metadata": {},
     "output_type": "execute_result"
    }
   ],
   "source": [
    "run(`gmsh geometry.msh`)"
   ]
  },
  {
   "cell_type": "code",
   "execution_count": 16,
   "metadata": {},
   "outputs": [
    {
     "data": {
      "text/plain": [
       "2-element Vector{Int64}:\n",
       " 1\n",
       " 2"
      ]
     },
     "execution_count": 16,
     "metadata": {},
     "output_type": "execute_result"
    }
   ],
   "source": [
    "[1,2]"
   ]
  },
  {
   "cell_type": "code",
   "execution_count": 19,
   "metadata": {},
   "outputs": [
    {
     "name": "stdout",
     "output_type": "stream",
     "text": [
      "123"
     ]
    }
   ],
   "source": [
    "for i = 1 : 3\n",
    "    print(i)\n",
    "end"
   ]
  },
  {
   "cell_type": "code",
   "execution_count": null,
   "metadata": {},
   "outputs": [],
   "source": []
  }
 ],
 "metadata": {
  "kernelspec": {
   "display_name": "Julia 1.6.2",
   "language": "julia",
   "name": "julia-1.6"
  },
  "language_info": {
   "file_extension": ".jl",
   "mimetype": "application/julia",
   "name": "julia",
   "version": "1.6.2"
  }
 },
 "nbformat": 4,
 "nbformat_minor": 2
}
