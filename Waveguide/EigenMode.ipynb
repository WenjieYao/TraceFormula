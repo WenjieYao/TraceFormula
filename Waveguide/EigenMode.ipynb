{
 "cells": [
  {
   "cell_type": "code",
   "execution_count": 1,
   "metadata": {},
   "outputs": [
    {
     "name": "stdout",
     "output_type": "stream",
     "text": [
      "Initializing eigensolver data\n",
      "Computing 2 bands with 1e-07 tolerance\n",
      "     block, center = (0,0,0)\n",
      "          size (1e+20,0.144338,1e+20)\n",
      "          axes (1,0,0), (0,1,0), (0,0,1)\n",
      "1 k-points\n",
      "  Vector3<1.654, 0.0, 0.0>\n",
      "elapsed time for initialization: 0.004185199737548828\n",
      "elapsed time for k point: 0.018075942993164062\n",
      "total elapsed time for run: 0.02618122100830078\n",
      "done\n"
     ]
    },
    {
     "data": {
      "text/plain": [
       "array([[1.00017734, 1.58893353]])"
      ]
     },
     "execution_count": 1,
     "metadata": {},
     "output_type": "execute_result"
    }
   ],
   "source": [
    "# do inline plots with Python's matplotlib library\n",
    "%matplotlib inline\n",
    "from matplotlib import pyplot as plt\n",
    "import numpy as np\n",
    "# load the Meep and MPB modules in Python\n",
    "import meep as mp\n",
    "from meep import mpb\n",
    "\n",
    "# First, we will define some parameters describing our structure.  \n",
    "# Defining them symbolically here makes it easier to change them.\n",
    "\n",
    "eps_hi = 12  # the waveguide dielectric constant\n",
    "eps_lo = 1  # the surrounding low-dielectric material\n",
    "h = 1/2/np.sqrt(eps_hi)       # the thickness of the waveguide (arbitrary units)\n",
    "Y = 5      # the size of the computational cell in the y direction\n",
    "\n",
    "# Here we define the size of the computational cell.  Since it is 2d,\n",
    "# it has no-size in the z direction.  Because it is a waveguide in the\n",
    "# x direction, then the eigenproblem at a given k has no-size in the\n",
    "# x direction as well.\n",
    "geometry_lattice = mp.Lattice(size=(0, Y))\n",
    "\n",
    "# the default-material is what fills space where we haven't placed objects\n",
    "default_material = mp.Medium(epsilon=eps_lo)\n",
    "\n",
    "# a list of geometric objects to create structures in our computation:\n",
    "# (in this case, we only have one object, a block to make the waveguide)\n",
    "geometry = [mp.Block(center=(0,0), # center of computational cell\n",
    "                     size=(mp.inf, h, mp.inf),\n",
    "                     material=mp.Medium(epsilon=eps_hi))]\n",
    "\n",
    "# MPB discretizes space with a given resolution.   Here, we set\n",
    "# a resolution of 32 pixels per unit distance.  Thus, with Y=10\n",
    "# our comptuational cell will be 320 pixels wide.  In general,\n",
    "# you should make the resolution fine enough so that the pixels\n",
    "# are much smaller than the wavelength of the light.\n",
    "#   -- to get high accuracy results, in practice you \n",
    "#      double the resolution until your answer stops changing\n",
    "#      to your desired tolerance\n",
    "resolution = 200\n",
    "\n",
    "# Generally, we want omega(k) for a range of k values.  MPB\n",
    "# can automatically interpolate a set of k values between any\n",
    "# given bounds.  Here, we will interpolate 10 k's between 0 and 2.\n",
    "#\n",
    "# in MPB, the k vectors are in the basis of the primitive \n",
    "# reciprocal lattice vectors.   Here, for a 1d cell with zero\n",
    "# width in the x direction, the units of kx are just units of 2pi/a\n",
    "# where a is our distance units.\n",
    "\n",
    "kmin = 0\n",
    "kmax = 2\n",
    "k_interp = 9\n",
    "#k_points = mp.interpolate(k_interp, [mp.Vector3(kmin), mp.Vector3(kmax)])\n",
    "#k_points =[mp.Vector3(3.322)]\n",
    "#k_points =[mp.Vector3(2.854)]\n",
    "k_points =[mp.Vector3(1.654)]\n",
    "# we also need to specify how many eigenmodes we want to compute:\n",
    "num_bands = 2\n",
    "\n",
    "ms = mpb.ModeSolver(num_bands=num_bands,\n",
    "                    k_points=k_points,\n",
    "                    #target_freq = 1.0,\n",
    "                    geometry=geometry,\n",
    "                    geometry_lattice=geometry_lattice,\n",
    "                    resolution=resolution,\n",
    "                    default_material=default_material)\n",
    "\n",
    "ms.run_te(mpb.fix_efield_phase)\n",
    "ms.all_freqs"
   ]
  },
  {
   "cell_type": "code",
   "execution_count": 4,
   "metadata": {},
   "outputs": [
    {
     "data": {
      "text/plain": [
       "[<matplotlib.lines.Line2D at 0x7ff348641a90>]"
      ]
     },
     "execution_count": 4,
     "metadata": {},
     "output_type": "execute_result"
    },
    {
     "data": {
      "image/png": "[encoded data removed]",
      "text/plain": [
       "<Figure size 720x576 with 1 Axes>"
      ]
     },
     "metadata": {
      "needs_background": "light"
     },
     "output_type": "display_data"
    }
   ],
   "source": [
    "eps = ms.get_epsilon()\n",
    "y = np.linspace(-Y/2,Y/2,eps.size)\n",
    "plt.figure(figsize=(10,8))\n",
    "band_t = 1\n",
    "hz1 = ms.get_hfield(band_t)[:,0,0,2] # the z component of band t\n",
    "ex1 = ms.get_efield(band_t)[:,0,0,0] # the x component of band t\n",
    "ey1 = ms.get_efield(band_t)[:,0,0,1] # the y component of band t\n",
    "#plt.plot(y, np.real(hz1), \"r-\")\n",
    "#plt.plot(y, np.real(ex1), \"b-\")\n",
    "plt.plot(y, np.real(ey1), \"b-\")"
   ]
  },
  {
   "cell_type": "code",
   "execution_count": 5,
   "metadata": {},
   "outputs": [],
   "source": [
    "with open('Eigenmode.txt', 'w') as f:\n",
    "    for i in range(np.size(y)):\n",
    "        f.write(\"%s %s %s\\n\" % (y[i], np.real(hz1[i]), np.real(ey1[i])))"
   ]
  },
  {
   "cell_type": "code",
   "execution_count": null,
   "metadata": {},
   "outputs": [],
   "source": []
  }
 ],
 "metadata": {
  "kernelspec": {
   "display_name": "mp",
   "language": "python",
   "name": "mp"
  },
  "language_info": {
   "codemirror_mode": {
    "name": "ipython",
    "version": 3
   },
   "file_extension": ".py",
   "mimetype": "text/x-python",
   "name": "python",
   "nbconvert_exporter": "python",
   "pygments_lexer": "ipython3",
   "version": "3.7.6"
  }
 },
 "nbformat": 4,
 "nbformat_minor": 4
}
