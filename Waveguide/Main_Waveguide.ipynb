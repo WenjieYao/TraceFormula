{
 "cells": [
  {
   "cell_type": "code",
   "execution_count": 1,
   "metadata": {},
   "outputs": [],
   "source": [
    "push!(LOAD_PATH, \"/Users/jayyao/Documents/Research/TraceFormula/Module\")\n",
    "using GridapEM\n",
    "using Gridap\n",
    "using DelimitedFiles\n",
    "using KrylovKit\n",
    "using LinearAlgebra\n",
    "using GLMakie\n",
    "using GridapMakie\n",
    "using Interpolations"
   ]
  },
  {
   "cell_type": "code",
   "execution_count": 2,
   "metadata": {},
   "outputs": [
    {
     "name": "stdout",
     "output_type": "stream",
     "text": [
      "Info    : Reading 'geometry.msh'...\n",
      "Info    : 66 entities\n",
      "Info    : 51784 nodes\n",
      "Info    : 104400 elements\n",
      "Info    : [ 10%] Reading elements                                          \r",
      "Info    : [ 10%] Reading elements                                          \r",
      "Info    : [ 20%] Reading elements                                          \r",
      "Info    : [ 20%] Reading elements                                          \r",
      "Info    : [ 30%] Reading elements                                          \r",
      "Info    : [ 30%] Reading elements                                          \r",
      "Info    : [ 40%] Reading elements                                          \r",
      "Info    : [ 40%] Reading elements                                          \r",
      "Info    : [ 50%] Reading elements                                          \r",
      "Info    : [ 50%] Reading elements                                          \r",
      "Info    : [ 60%] Reading elements                                          \r",
      "Info    : [ 60%] Reading elements                                          \r",
      "Info    : [ 70%] Reading elements                                          \r",
      "Info    : [ 70%] Reading elements                                          \r",
      "Info    : [ 80%] Reading elements                                          \r",
      "Info    : [ 80%] Reading elements                                          \r",
      "Info    : [ 90%] Reading elements                                          \r",
      "Info    : [ 90%] Reading elements                                          \r",
      "Info    : [100%] Reading elements                                          \r",
      "                                          \r",
      "Info    : Done reading 'geometry.msh'\n"
     ]
    },
    {
     "data": {
      "text/plain": [
       "ControllingParameters(true, true, [0.02, 0.02], 80.0, 0.5, 0.0005, 15, 30, 20, 1.0, true, 0.5, 0.0, 0.75, 0.25)"
      ]
     },
     "execution_count": 2,
     "metadata": {},
     "output_type": "execute_result"
    }
   ],
   "source": [
    "include(\"/Users/jayyao/Documents/Research/TraceFormula/Module/DefaultParameters.jl\")\n",
    "\n",
    "# Change default geometry parameters\n",
    "L = 2.0           # Length of the normal region\n",
    "H = 2.0           # Height of the normal region\n",
    "Hd = 1.5          # Height of the design region\n",
    "Ld = 0.5          # Length of the design region\n",
    "\n",
    "xd = -0.2         # Center off-set of the design region\n",
    "xt = 0.2          # Distance of the target line\n",
    "resol = 60.0      # Number of points per wavelength\n",
    "l1 = λ/resol      # Normal region\n",
    "l2 = l1/2.0       # Design region\n",
    "l3 = l1         # PML\n",
    "\n",
    "# Create mesh file\n",
    "geo_param = RecRecGeometry(L, H, Ld, Hd, xd, xt, dpml, l1, l2, l3)\n",
    "meshfile_name = \"geometry.msh\"\n",
    "#MeshGenerator(geo_param, meshfile_name)\n",
    "\n",
    "# Apply gridap finite element analysis to mesh file\n",
    "gridap = GridapFE(meshfile_name, 1, 2, [\"DirichletEdges\", \"DirichletNodes\"], [\"DesignNodes\", \"DesignEdges\"], [\"Target\", \"Target1\", \"Target2\"], [\"Source\"], flag_f)\n",
    "#run(`gmsh geometry.msh`)\n",
    "\n",
    "# Change default physics parameters\n",
    "kb = VectorValue(2*π*0.,0)\n",
    "LHp=[L / 2, H / 2]  # Start of PML for x,y > 0\n",
    "LHn=[L / 2, H / 2]  # Start of PML for x,y < 0\n",
    "ϵ3 = 12.0\n",
    "wg_center = [(L-Ld)/4+dpml/2+Ld/2+0.005*λ+xd/2, 0]\n",
    "wg_size = [(L-Ld)/2+dpml-xd, λ/2/sqrt(ϵ3)]\n",
    "#wg_center = [0, 0]\n",
    "#wg_size = [L + 2 * dpml, λ / 2 / sqrt(ϵ3)]\n",
    "phys = PhysicalParameters(k, kb, ω, ϵ1, ϵ2, ϵ3, ϵd, μ, R, σs, dpml, LHp, LHn, wg_center, wg_size)\n",
    "\n",
    "# Change default control parameters\n",
    "Bρ = true\n",
    "ρv = 0.5\n",
    "β = 80.0\n",
    "\n",
    "control = ControllingParameters(flag_f, flag_t, r, β, η, α, nparts, nkx, K, Amp, Bρ, ρv, c, ηe, ηd)\n",
    "\n"
   ]
  },
  {
   "cell_type": "code",
   "execution_count": 3,
   "metadata": {},
   "outputs": [
    {
     "data": {
      "text/plain": [
       "0.2139839801209827"
      ]
     },
     "execution_count": 3,
     "metadata": {},
     "output_type": "execute_result"
    }
   ],
   "source": [
    "EigMode = open(readdlm,\"Eigenmode.txt\")\n",
    "\n",
    "A_x = EigMode[:,1]\n",
    "knots = (A_x,)\n",
    "Hzi = EigMode[:,2]\n",
    "Eyi = EigMode[:,3]\n",
    "Hz_eigy = Interpolations.interpolate(knots, Hzi, Gridded(Linear()))\n",
    "Ey_eigy = Interpolations.interpolate(knots, Eyi, Gridded(Linear()))\n",
    "Hz_eig(x) = Hz_eigy(x[2])*cis(-1.654*k*(x[1]))\n",
    "Ey_eig(x) = Ey_eigy(x[2])*cis(-1.654*k*(x[1]))\n",
    "#Hz_eig(x) = Hz_eigy(x[2])*cis(-2.854*k*(x[1]))\n",
    "#Ey_eig(x) = Ey_eigy(x[2])*cis(-2.854*k*(x[1]))\n",
    "Mode_norm = Hzi'*Eyi*(A_x[2]-A_x[1])\n",
    "q_vec=VectorO(Ey_eig, Mode_norm; gridap)\n",
    "Mode_norm\n",
    "#N = 201\n",
    "#Larray = range(-0.5,0.5;length=N)\n",
    "#H_itpr = zeros(N)\n",
    "#for i=1:N\n",
    "#    H_itpr[i] = itpr[Larray[i]]\n",
    "#end\n",
    "\n",
    "#lines(Larray,H_itpr)"
   ]
  },
  {
   "cell_type": "code",
   "execution_count": 10,
   "metadata": {},
   "outputs": [
    {
     "name": "stdout",
     "output_type": "stream",
     "text": [
      "numevals = opt.numevals = 200\n",
      "g_opt = 1400.939852221362\n"
     ]
    },
    {
     "data": {
      "text/plain": [
       "1400.939852221362"
      ]
     },
     "execution_count": 10,
     "metadata": {},
     "output_type": "execute_result"
    }
   ],
   "source": [
    "ρ_init = ones(gridap.np) * 0.5\n",
    "#ρW_temp = readdlm(\"ρW_opt_value.txt\", Float64)\n",
    "#ρW_temp = ρW_temp[:]\n",
    "#ρ_init = ρW_temp[1 : gridap.np]\n",
    "#ρ_init[ρ_init .< 0.5] .= 0\n",
    "#ρ_init[ρ_init .>= 0.5] .= 1.0\n",
    "r = [0.02 * λ, 0.02 * λ]  # Filter radius\n",
    "#Q_list = [50, 100, 500, 1000, 1000, 1000, 1000]\n",
    "Q_list = [1000, 1000, 1000, 1000, 1000]\n",
    "#β_list = [5.0, 10.0, 20.0, 30.0, 40.0, 60.0, 80.0]\n",
    "β_list = [80.0, 80.0, 80.0, 80.0, 80.0]\n",
    "\n",
    "g_opt = 0\n",
    "for bi = 1 : 1\n",
    "    β = β_list[bi]\n",
    "    α = 1.0 / (2 * Q_list[bi])\n",
    "    phys = PhysicalParameters(k, kb, ω, ϵ1, ϵ2, ϵ3, ϵd, μ, R, σs, dpml, LHp, LHn, wg_center, wg_size)\n",
    "    control = ControllingParameters(flag_f, flag_t, r, β, η, α, nparts, nkx, K, Amp, Bρ, ρv, c, ηe, ηd)\n",
    "\n",
    "    if bi == 1\n",
    "        g_opt, ρ_opt = gvρ_optimize([], q_vec, 1e-6, 200; phys, control, gridap)\n",
    "    \n",
    "    else\n",
    "        g_opt, ρ_opt = gvρ_optimize([], q_vec, 1e-6, 200; phys, control, gridap)\n",
    "    end\n",
    "    if isfile(\"ρ_opt.value.txt\")\n",
    "        run(`rm ρ_opt_value.txt`)\n",
    "    end\n",
    "    open(\"ρ_opt_value.txt\", \"w\") do iop\n",
    "        for i = 1 : length(ρ_opt)\n",
    "            ρ_temp = ρ_opt[i]\n",
    "            write(iop, \"$ρ_temp \\n\")\n",
    "        end\n",
    "    end\n",
    "    open(\"g_opt_value.txt\", \"a\") do io\n",
    "        write(io, \"$g_opt \\n\")\n",
    "    end\n",
    "end\n",
    "@show g_opt"
   ]
  },
  {
   "cell_type": "code",
   "execution_count": 11,
   "metadata": {
    "scrolled": false
   },
   "outputs": [
    {
     "name": "stdout",
     "output_type": "stream",
     "text": [
      "sum(∫(ρth) * gridap.dΩ_d) / sum(∫(1) * gridap.dΩ_d) = 0.49999999980710935\n"
     ]
    },
    {
     "data": {
      "image/png": "[encoded data removed]",
      "text/plain": [
       "Figure()"
      ]
     },
     "execution_count": 11,
     "metadata": {},
     "output_type": "execute_result"
    }
   ],
   "source": [
    "# Output and view\n",
    "ImportFromFile = true\n",
    "N = num_free_dofs(gridap.FE_U)\n",
    "if ImportFromFile\n",
    "    ρ_max = readdlm(\"ρ_opt_value.txt\", Float64)\n",
    "    ρ0 = ρ_max[:]\n",
    "else\n",
    "    ρ0 = zeros(gridap.np)\n",
    "end\n",
    " \n",
    "ρf_vec = ρf_ρ0(ρ0; control, gridap)\n",
    "ρfh = FEFunction(gridap.FE_Pf, ρf_vec)\n",
    "ρth = (ρf -> Threshold(ρf; control)) ∘ ρfh\n",
    "        \n",
    "A_mat = MatrixA(ρth; phys, control, gridap)\n",
    "B_mat = MatrixB(ρth; control, gridap)\n",
    "@show sum(∫(ρth)gridap.dΩ_d) / sum(∫(1)gridap.dΩ_d)\n",
    "\n",
    "A0_mat = MatrixA0(phys, control, gridap)\n",
    "\n",
    "G_ii, V_raw, info = eigsolve(x -> A_mat \\ (A0_mat * x), rand(ComplexF64, N), 10, :LM)\n",
    "\n",
    "V_mat = rand(ComplexF64, N, control.K)\n",
    "for ib = 1 : 10\n",
    "    V_mat[:, ib] = V_raw[ib]\n",
    "end\n",
    "v_vec = A_mat' \\ q_vec\n",
    "vh_eig = FEFunction(gridap.FE_U, V_mat[:, 1])\n",
    "vh = FEFunction(gridap.FE_U, v_vec)\n",
    "\n",
    "fig, ax, plt = plot(gridap.Ω, real( (x->(1/GridapEM.ξ0(x; phys))) + 11 * ρth), colormap = :binary)\n",
    "Colorbar(fig[1,2], plt)\n",
    "ax.aspect = AxisAspect(L/(H))\n",
    "ax.title = \"ε\"\n",
    "limits!(ax, -L/2, L/2, -phys.LHn[2], phys.LHp[2])\n",
    "save(\"Results/shape.png\", fig)\n",
    "fig"
   ]
  },
  {
   "cell_type": "code",
   "execution_count": null,
   "metadata": {},
   "outputs": [],
   "source": [
    "uh_eig = FEFunction(gridap.FE_U, V_mat[:, 1])\n",
    "uh = FEFunction(gridap.FE_U, v_vec)\n",
    "fig1, ax1, plt1 = plot(gridap.Ω, real(uh), colormap = :bwr)\n",
    "Colorbar(fig1[1,2], plt1)\n",
    "ax1.aspect = AxisAspect(L/(H))\n",
    "ax1.title = \"real(Hz)\"\n",
    "limits!(ax1, -L/2, L/2, -phys.LHn[2], phys.LHp[2])\n",
    "save(\"Results/s_mode.png\", fig1)\n",
    "fig2, ax2, plt2 = plot(gridap.Ω, real(uh_eig), colormap = :bwr)\n",
    "Colorbar(fig2[1,2], plt2)\n",
    "ax2.aspect = AxisAspect(L/(H))\n",
    "ax2.title = \"real(Hz)\"\n",
    "limits!(ax2, -L/2, L/2, -phys.LHn[2], phys.LHp[2])\n",
    "save(\"Results/t_mode.png\", fig2)\n",
    "fig1"
   ]
  },
  {
   "cell_type": "code",
   "execution_count": null,
   "metadata": {},
   "outputs": [],
   "source": [
    "fig2"
   ]
  },
  {
   "cell_type": "code",
   "execution_count": 6,
   "metadata": {},
   "outputs": [
    {
     "data": {
      "text/plain": [
       "106.09802239335657 - 1.8221207714097496e-11im"
      ]
     },
     "execution_count": 6,
     "metadata": {},
     "output_type": "execute_result"
    }
   ],
   "source": [
    "#1:b,2:-a,3:a,s:-b\n",
    "normal_vec = VectorValue(1,0)\n",
    "O_mat = assemble_matrix(gridap.FE_U,gridap.FE_V) do u,v\n",
    "    ∫( 1im/4/k*((x->GridapEM.ξ0(x; phys))*((u*∇(v)-v*∇(u))⋅normal_vec)) )gridap.dΓ_t[1]\n",
    "end\n",
    "G_ii,V_raw,info = eigsolve(x->MatrixG(x;A_mat,B_mat,O_mat),rand(ComplexF64,N),5,:LM)\n",
    "sum((G_ii))\n",
    "#u_vec'*Q_mat*u_vec"
   ]
  },
  {
   "cell_type": "code",
   "execution_count": 7,
   "metadata": {},
   "outputs": [
    {
     "data": {
      "text/plain": [
       "121.46590317705457"
      ]
     },
     "execution_count": 7,
     "metadata": {},
     "output_type": "execute_result"
    }
   ],
   "source": [
    "GridapEM.g_v(v_vec;B_mat)*Mode_norm/2"
   ]
  },
  {
   "cell_type": "code",
   "execution_count": null,
   "metadata": {},
   "outputs": [],
   "source": [
    "powers=[102.4088764195474, 14.211680444034311, 13.89212873866873, 45.437696136068965]\n",
    "wgpower_opt = 115.16666805818191\n",
    "#powers_uni = [0.031572326759434714,0.02901644824364154,0.029217098888027364,0.028055632308632204]\n",
    "#wgpower_uni = 0.005057150629131363\n",
    "wgpower_opt/sum(powers)#,wgpower_uni/sum(powers_uni)"
   ]
  },
  {
   "cell_type": "code",
   "execution_count": null,
   "metadata": {},
   "outputs": [],
   "source": [
    "N = num_free_dofs(gridap.FE_U)\n",
    "ρ0 = rand(gridap.np) * 1\n",
    "δρ = rand(gridap.np) * 1e-6\n",
    "\n",
    "grad = zeros(gridap.np )\n",
    "g1 = gv_ρ(ρ0 + δρ, []; q_vec, phys, control, gridap)\n",
    "g0 = gv_ρ(ρ0, grad; q_vec, phys, control, gridap)\n",
    "g1 - g0, grad' * δρ"
   ]
  },
  {
   "cell_type": "code",
   "execution_count": null,
   "metadata": {},
   "outputs": [],
   "source": [
    "l_temp(v) = ∫(v*Ey_eig)*gridap.dΓ_s\n",
    "b_vec = assemble_vector(l_temp,gridap.FE_V)\n",
    "u_vec=A_mat\\(b_vec)\n",
    "uh =FEFunction(gridap.FE_U,u_vec)\n",
    "unorm=sum(∫( uh'*uh )gridap.dΓ_s)\n",
    "uhn = uh/sqrt(unorm)\n",
    "u_vec=u_vec./sqrt(unorm)\n",
    "\n",
    "fig2, ax2, plt2 = plot(gridap.Ω, real(uhn), colormap = :bwr)\n",
    "Colorbar(fig2[1,2], plt2)\n",
    "ax2.aspect = AxisAspect(L/(H))\n",
    "ax2.title = \"real(Hz)\"\n",
    "limits!(ax2, -L/2, L/2, -phys.LHn[2], phys.LHp[2])\n",
    "fig2"
   ]
  },
  {
   "cell_type": "code",
   "execution_count": null,
   "metadata": {},
   "outputs": [],
   "source": [
    "abs(u_vec'*O_mat*u_vec), Mode_norm/2"
   ]
  },
  {
   "cell_type": "code",
   "execution_count": null,
   "metadata": {},
   "outputs": [],
   "source": []
  }
 ],
 "metadata": {
  "kernelspec": {
   "display_name": "Julia 1.6.0",
   "language": "julia",
   "name": "julia-1.6"
  },
  "language_info": {
   "file_extension": ".jl",
   "mimetype": "application/julia",
   "name": "julia",
   "version": "1.6.2"
  }
 },
 "nbformat": 4,
 "nbformat_minor": 4
}
