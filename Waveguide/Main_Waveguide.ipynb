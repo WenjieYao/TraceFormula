{
 "cells": [
  {
   "cell_type": "code",
   "execution_count": 2,
   "metadata": {},
   "outputs": [],
   "source": [
    "using Gridap\n",
    "using DelimitedFiles\n",
    "using KrylovKit\n",
    "using LinearAlgebra\n",
    "using GLMakie\n",
    "using Interpolations"
   ]
  },
  {
   "cell_type": "code",
   "execution_count": 3,
   "metadata": {},
   "outputs": [
    {
     "ename": "LoadError",
     "evalue": "UndefVarError: VectorQ not defined",
     "output_type": "error",
     "traceback": [
      "UndefVarError: VectorQ not defined",
      "",
      "Stacktrace:",
      " [1] top-level scope",
      "   @ In[3]:14",
      " [2] eval",
      "   @ ./boot.jl:360 [inlined]",
      " [3] include_string(mapexpr::typeof(REPL.softscope), mod::Module, code::String, filename::String)",
      "   @ Base ./loading.jl:1116"
     ]
    }
   ],
   "source": [
    "EigMode = open(readdlm,\"Eigenmode.txt\")\n",
    "\n",
    "A_x = EigMode[:,1]\n",
    "knots = (A_x,)\n",
    "Hzi = EigMode[:,2]\n",
    "Eyi = EigMode[:,3]\n",
    "Hz_eigy = Interpolations.interpolate(knots, Hzi, Gridded(Linear()))\n",
    "Ey_eigy = Interpolations.interpolate(knots, Eyi, Gridded(Linear()))\n",
    "Hz_eig(x) = Hz_eigy(x[2])*cis(-1.654*k*(x[1]))\n",
    "Ey_eig(x) = Ey_eigy(x[2])*cis(-1.654*k*(x[1]))\n",
    "#Hz_eig(x) = Hz_eigy(x[2])*cis(-2.854*k*(x[1]))\n",
    "#Ey_eig(x) = Ey_eigy(x[2])*cis(-2.854*k*(x[1]))\n",
    "Mode_norm = Hzi'*Eyi*(A_x[2]-A_x[1])\n",
    "q_vec=VectorQ(Ey_eig,Mode_norm,gridap)\n",
    "Mode_norm\n",
    "#N = 201\n",
    "#Larray = range(-0.5,0.5;length=N)\n",
    "#H_itpr = zeros(N)\n",
    "#for i=1:N\n",
    "#    H_itpr[i] = itpr[Larray[i]]\n",
    "#end\n",
    "\n",
    "#lines(Larray,H_itpr)"
   ]
  },
  {
   "cell_type": "code",
   "execution_count": null,
   "metadata": {},
   "outputs": [],
   "source": [
    "#1:b,2:-a,3:a,s:-b\n",
    "normal_vec = VectorValue(1,0)\n",
    "Q_mat = assemble_matrix(gridap.FE_U,gridap.FE_V) do u,v\n",
    "    ∫( -1im/4/k*((x->ξ0(x;phys))*((u*∇(v)-v*∇(u))⋅normal_vec)) )gridap.dΓ_t[1]\n",
    "end\n",
    "G_ii,V_raw,info = eigsolve(x->MatrixG(x;A_mat,D_mat,Q_mat),rand(ComplexF64,N),5,:LM;ishermitian=true)\n",
    "sum((G_ii))\n",
    "#u_vec'*Q_mat*u_vec"
   ]
  }
 ],
 "metadata": {
  "kernelspec": {
   "display_name": "Julia 1.6.0",
   "language": "julia",
   "name": "julia-1.6"
  },
  "language_info": {
   "file_extension": ".jl",
   "mimetype": "application/julia",
   "name": "julia",
   "version": "1.6.2"
  }
 },
 "nbformat": 4,
 "nbformat_minor": 4
}
