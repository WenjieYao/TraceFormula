{
 "cells": [
  {
   "cell_type": "code",
   "execution_count": null,
   "metadata": {},
   "outputs": [],
   "source": []
  },
  {
   "cell_type": "code",
   "execution_count": null,
   "metadata": {},
   "outputs": [],
   "source": [
    "pV_max = readdlm(\"pV_opt_value.txt\", Float64)\n",
    "pV_max = pV_max[:]\n",
    "p0 = pV_max[1:gridap.np]\n",
    "#p0 = zeros(gridap.np)\n",
    "N = num_free_dofs(gridap.FE_U)\n",
    "D_mat0 = MatrixD(gridap)\n",
    "#α = [0. 1.0/(2*10.0)]\n",
    "#control = ControllingParameters(flag_f,flag_t,r,β,η,α,nparts,nkx,K,Amp,Dp,pv,c,ηe,ηd)\n",
    "LHp=[Inf h1+h2]\n",
    "LHn=[Inf h3]\n",
    "phys = PhysicalParameters(k,ω,ϵ1,ϵ2,ϵ3,ϵd,μ,R,σs,dpml,LHp,LHn,wg_center,wg_size)\n",
    "nkx = 100\n",
    "kx_ini = -π/L\n",
    "dkx = 2*π/L/nkx\n",
    "kx_end = π/L-dkx\n",
    "kx_s = range(kx_ini,kx_end;length=nkx)\n",
    "Q_mat = MatrixQt(phys.k,phys.ϵ1,gridap)\n",
    "\n",
    "gk = zeros(nkx)\n",
    "Giik = zeros(nkx)\n",
    "pV_initial = zeros(gridap.np+2*N*control.K)\n",
    "pV_initial[1:gridap.np]=p0[:]\n",
    "pf = pf_p(p0;control,gridap)\n",
    "if (control.flag_f)\n",
    "    pfh = FEFunction(gridap.FE_Pf,pf)\n",
    "else\n",
    "    pfh = FEFunction(gridap.FE_P,pf)\n",
    "end\n",
    "ph = (pf->Threshold(pf;control))∘pfh\n",
    "if (control.Dp)\n",
    "    D_mat = MatrixDp(ph,gridap)\n",
    "else\n",
    "    D_mat = D_mat0\n",
    "end\n",
    "for ki=1:nkx\n",
    "    kx=kx_s[ki]\n",
    "    A_mat = MatrixA(kx,ph;phys,control,gridap)\n",
    "    G_ii,V_raw,info = eigsolve(x->MatrixG(x;A_mat,D_mat,Q_mat),rand(ComplexF64,N),2,:LM;ishermitian=true)\n",
    "    Giik[ki]=sum(G_ii)\n",
    "    V_mat = rand(ComplexF64,N,control.K)\n",
    "    for ib = 1:2\n",
    "        V_mat[:,ib]=V_raw[ib]\n",
    "    end\n",
    "    V_mat = reinterpret(Float64,V_mat)\n",
    "    pV_initial[gridap.np+1:end] = V_mat[:]\n",
    "    gk[ki]=g_pV(pV_initial,[];kx,Q_mat,D_mat0,phys,control,gridap)\n",
    "end\n",
    "sum(gk)/nkx/control.Amp/L"
   ]
  },
  {
   "cell_type": "code",
   "execution_count": null,
   "metadata": {},
   "outputs": [],
   "source": [
    "scene, layout = layoutscene(resolution=(1400/2,900/2))\n",
    "ax = layout[1,1]=Axis(scene)\n",
    "lin1 = scatter!(ax,kx_s[:]./(2*π/L),gk[:]./control.Amp/L,markersize=5)\n",
    "lin2 = lines!(ax,kx_s[:]./(2*π/L),Giik[:]./L)\n",
    "ax.ylabel=\"Power\"\n",
    "ax.xlabel=\"kxL/2π\"\n",
    "ax.title=\"Optimzed with L=0.6 and α=1/2000\"\n",
    "save(\"Results/L0.6_gvsk.png\",scene)\n",
    "scene"
   ]
  },
  {
   "cell_type": "code",
   "execution_count": null,
   "metadata": {},
   "outputs": [],
   "source": [
    "scene, layout = layoutscene(resolution=(800/2,500/2))\n",
    "ax = layout[1,1]=Axis(scene)\n",
    "lin1 = scatter!(ax,range(1,length(G_iin),step=1),abs.(G_iin)/L,markersize=10)\n",
    "#ax.xlabel=\"i'th eigenvalue\"\n",
    "#ax.ylabel=\"Value\"\n",
    "#ax.title=\"Power Eigenvalue Distribution\"\n",
    "#ax.xlabelsize=20\n",
    "#ax.ylabelsize=20\n",
    "#ax.titlesize=20\n",
    "#axislegend(ax, [lin1, lin2],[\"Optimized\",\"Random\"], position = :lt,\n",
    "#    orientation = :vertical)\n",
    "scene"
   ]
  }
 ],
 "metadata": {
  "kernelspec": {
   "display_name": "Julia 1.6.0",
   "language": "julia",
   "name": "julia-1.6"
  },
  "language_info": {
   "file_extension": ".jl",
   "mimetype": "application/julia",
   "name": "julia",
   "version": "1.6.2"
  }
 },
 "nbformat": 4,
 "nbformat_minor": 4
}
